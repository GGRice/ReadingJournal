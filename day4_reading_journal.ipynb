{
 "cells": [
  {
   "cell_type": "markdown",
   "metadata": {},
   "source": [
    "# Day 4 Reading Journal\n",
    "\n",
    "This journal includes several required exercises, but it is meant to encourage active reading more generally.  You should use the journal to take detailed notes, catalog questions, and explore the content from Think Python deeply.\n",
    "\n",
    "Reading: Think Python Chapter 10\n",
    "\n",
    "**Due: Monday, January 30 at 12 noon**\n",
    "\n"
   ]
  },
  {
   "cell_type": "markdown",
   "metadata": {},
   "source": [
    "## [Chapter 10](http://www.greenteapress.com/thinkpython2/html/thinkpython2011.html)\n",
    "\n",
    "You may want to review [state diagrams in Chapter 2](http://greenteapress.com/thinkpython2/html/thinkpython2003.html). [Python Tutor](http://pythontutor.com/) is also helpful for visualizing the state of your program.\n",
    "\n"
   ]
  },
  {
   "cell_type": "markdown",
   "metadata": {},
   "source": [
    "### Notes\n",
    "(10.6 to end, read beginning yesterday)  \n",
    "append to add new element to list  \n",
    "extend appends all the elements  \n",
    "argument assignment statement (ex: total += x)  \n",
    "accumulator, variable that accumulates sum of elements  \n",
    "sum() adds up the elements of a list  \n",
    "reduce variable combines sequence of elements into single value  \n",
    "map operation \"maps\" a function on each element in a sequence  \n",
    "filter operation choses some emlements and filters others out  \n",
    "list.pop(index) removes and treturns the element at index from list  \n",
    "del list[index] deletes the value at index from list  \n",
    "list.remove(element) removes element at an unknown index from list  \n",
    "del list[1:3] deletes elements at indeces i-3  \n",
    "s = 'spam' t = list(s) t == ['s', 'p', 'a', 'm']  \n",
    "don't name lists list  \n",
    "t=s.split() splits the string into words for each element of the list  \n",
    "delimiter specifies which characters to use as boundry words  \n",
    "join is revers of split, turns list into string  \n",
    "strings with same value are equals  \n",
    "lists with same value are not equal  \n",
    "equivalent becasue same elements, identical if same object  \n",
    "object has a value  \n",
    "reference, association of variable with object  \n",
    "object with multiple references is aliased  \n",
    "aliased objects are mutable  \n",
    "some operations modify lists some create new lists, be careful  \n",
    "most list methods return None  \n"
   ]
  },
  {
   "cell_type": "markdown",
   "metadata": {},
   "source": [
    "### Exercise 10.3 \n",
    "Write a function called `middle` that takes a list and returns a new list that contains all but the first and last elements. So `middle([1,2,3,4])` should return `[2,3]`."
   ]
  },
  {
   "cell_type": "code",
   "execution_count": 13,
   "metadata": {
    "collapsed": false
   },
   "outputs": [
    {
     "name": "stdout",
     "output_type": "stream",
     "text": [
      "[2, 3]\n",
      "[2, 3, 4, 5]\n",
      "[1, 2, 3, 4]\n",
      "[2, 3, 4]\n",
      "None\n",
      "[2]\n"
     ]
    }
   ],
   "source": [
    "def middle(l):\n",
    "    \n",
    "    if len(l) is 2:\n",
    "        return None\n",
    "    elif len(l):\n",
    "        return(l[1:len(l)-1])\n",
    "\n",
    "\n",
    "print(middle([1,2,3,4]))\n",
    "print(middle([1, 2, 3, 4, 5, 6]))\n",
    "print(middle([0, 1, 2, 3, 4, 5]))\n",
    "print(middle([1,2,3,4,45]))\n",
    "print(middle([1,2]))\n",
    "print(middle([1,2,3]))"
   ]
  },
  {
   "cell_type": "markdown",
   "metadata": {},
   "source": [
    "### Exercise 10.4 \n",
    "Write a function called `chop` that takes a list, modifies it by removing the first and last elements, and returns `None`.\n",
    "\n",
    "What is the difference between `middle` and `chop`? Sketch out the program state or take a look at each in Python Tutor and answer the question in the Markdown cell below."
   ]
  },
  {
   "cell_type": "code",
   "execution_count": 16,
   "metadata": {
    "collapsed": false
   },
   "outputs": [
    {
     "name": "stdout",
     "output_type": "stream",
     "text": [
      "[2, 3]\n",
      "None\n",
      "[2, 3, 4, 5]\n",
      "None\n",
      "[1, 2, 3, 4]\n",
      "None\n",
      "[2, 3, 4]\n",
      "None\n",
      "[]\n",
      "None\n",
      "[2]\n",
      "None\n"
     ]
    }
   ],
   "source": [
    "def chop(l):\n",
    "    del l[0]\n",
    "    del l[len(l)-1]\n",
    "\n",
    "    return None\n",
    "\n",
    "print(chop([1,2,3,4]))\n",
    "print(chop([1, 2, 3, 4, 5, 6]))\n",
    "print(chop([0, 1, 2, 3, 4, 5]))\n",
    "print(chop([1,2,3,4,45]))\n",
    "print(chop([1,2]))\n",
    "print(chop([1,2,3]))"
   ]
  },
  {
   "cell_type": "markdown",
   "metadata": {},
   "source": [
    "middle is not modifying the list given, and it prints the new list  \n",
    "chop modifies the list given by getting rid of the elements and it does not return the new list  "
   ]
  },
  {
   "cell_type": "markdown",
   "metadata": {},
   "source": [
    "### Exercise 10.6 \n",
    "Two words are anagrams if you can rearrange the letters from one to spell the other. Write a function called `is_anagram` that takes two strings and returns `True` if they are anagrams."
   ]
  },
  {
   "cell_type": "code",
   "execution_count": 6,
   "metadata": {
    "collapsed": false
   },
   "outputs": [
    {
     "name": "stdout",
     "output_type": "stream",
     "text": [
      "True\n"
     ]
    }
   ],
   "source": [
    "def is_anagram (s1, s2):\n",
    "    s1.lower()\n",
    "    s2.lower()\n",
    "    \n",
    "    l1 = list(s1)\n",
    "    l2 = list(s2)\n",
    "    \n",
    "    l1.sort()\n",
    "    l2.sort()\n",
    "    \n",
    "    \n",
    "    ana = False\n",
    "    \n",
    "    for i in range(0, len(l1)):\n",
    "        if l1[i] == l2[i]:\n",
    "            ana = True\n",
    "        else:\n",
    "            ana = False\n",
    "            \n",
    "    return ana\n",
    "            \n",
    "print(is_anagram('anagram  ', 'nag a ram'))"
   ]
  },
  {
   "cell_type": "markdown",
   "metadata": {},
   "source": [
    "### Exercise 10.8  \n",
    "The (so-called) Birthday Paradox: <br /><br />\n",
    "1\\. Write a function called `has_duplicates` that takes a list and returns `True` if there is any element that appears more than once. It should not modify the original list.\n",
    "\n",
    "2\\. If there are 23 students in your class, what are the chances that two of you have the same birthday? Put your answer in the Markdown cell below. You can estimate this probability by generating random samples of 23 birthdays and checking for matches. Hint: you can generate random birthdays with the randint function from the [random module](https://docs.python.org/2/library/random.html).\n",
    "\n",
    "You can read about this problem at http://en.wikipedia.org/wiki/Birthday_paradox, and you can download Allen's solution from http://greenteapress.com/thinkpython2/code/birthday.py."
   ]
  },
  {
   "cell_type": "code",
   "execution_count": 7,
   "metadata": {
    "collapsed": false
   },
   "outputs": [
    {
     "name": "stdout",
     "output_type": "stream",
     "text": [
      "True\n"
     ]
    }
   ],
   "source": [
    "def has_duplicates(l):\n",
    "    newL = l\n",
    "    newL.sort()\n",
    "    for i in range(1, len(l)):\n",
    "        if newL[i] == newL[i-1]:\n",
    "            return True\n",
    "    return False\n",
    "        \n",
    "print(has_duplicates(['n', 's', 'a', 'a']))"
   ]
  },
  {
   "cell_type": "code",
   "execution_count": 25,
   "metadata": {
    "collapsed": false
   },
   "outputs": [
    {
     "name": "stdout",
     "output_type": "stream",
     "text": [
      "Looking at 23 students\n",
      "and running 1000 trials\n",
      "there were 526 simulations\n",
      "with at least one duplicate\n",
      "birthday. That is about 52%\n"
     ]
    }
   ],
   "source": [
    "import random \n",
    "\n",
    "\n",
    "def has_duplicates(l):\n",
    "    newL = l\n",
    "    newL.sort()\n",
    "    for i in range(1, len(l)):\n",
    "        if newL[i] == newL[i-1]:\n",
    "            return True\n",
    "    return False\n",
    "\n",
    "\n",
    "def randBirth(s):\n",
    "    birthdays = []\n",
    "    for i in range (s):\n",
    "        day = random.randint(0, 365)\n",
    "        birthdays.append(day)\n",
    "        \n",
    "    return birthdays\n",
    "\n",
    "\n",
    "def countDup(stu,numSim):\n",
    "    count = 0\n",
    "    for i in range(numSim):\n",
    "        r = randBirth(stu)\n",
    "        if has_duplicates(r):\n",
    "            count += 1\n",
    "    \n",
    "    return count\n",
    "\n",
    "\n",
    "def main():\n",
    "    numStu = 23\n",
    "    numSim = 1000\n",
    "    dup = countDup(numStu, numSim)\n",
    "    perc = 100 *dup/numSim\n",
    "    \n",
    "    print('Looking at %s students' % numStu)\n",
    "    print('and running %s trials' % numSim)\n",
    "    print('there were %s simulations' % dup)\n",
    "    print('with at least one duplicate')\n",
    "    print('birthday. That is about %d%%' % perc)\n",
    "    \n",
    "    \n",
    "if __name__ == '__main__':\n",
    "    main()"
   ]
  },
  {
   "cell_type": "markdown",
   "metadata": {},
   "source": []
  },
  {
   "cell_type": "markdown",
   "metadata": {},
   "source": [
    "### Challenge: Exercise 10.10 (optional)\n",
    "\n",
    "You should read [Chapter 9.1](http://www.greenteapress.com/thinkpython2/html/thinkpython2010.html) and do Exercise 1 first.\n",
    "\n",
    "To check whether a word is in the word list, you could use the `in` operator, but it would be relatively slow because it searches through the words in order (try it).\n",
    "\n",
    "Because the words are in alphabetical order, we can speed things up with a bisection search (also known as binary search), which is similar to what you do when you look a word up in the dictionary. You start in the middle and check to see whether the word you are looking for comes before the word in the middle of the list. If so, then you search the first half of the list the same way. Otherwise you search the second half.\n",
    "\n",
    "Either way, you cut the remaining search space in half. If the word list has 113,809 words, it will take about 17 steps to find the word or conclude that it’s not there.\n",
    "\n",
    "Write a function called `bisect` that takes a sorted list and a target value and returns the index of the value in the list, if it’s there, or `None` if it’s not.\n",
    "\n",
    "Or you could read the documentation of the `bisect` module and use that! Solution: http://greenteapress.com/thinkpython2/code/inlist.py."
   ]
  },
  {
   "cell_type": "code",
   "execution_count": null,
   "metadata": {
    "collapsed": true
   },
   "outputs": [],
   "source": []
  },
  {
   "cell_type": "markdown",
   "metadata": {},
   "source": [
    "## Reading Journal feedback\n",
    "\n",
    "Have any comments on this Reading Journal? Feel free to leave them [here](https://goo.gl/forms/hZqCUAi4ir7hVN6x2) and we'll read them when you submit your journal entry. This could include suggestions to improve the exercises, topics you'd like to see covered in class next time, or other feedback.\n",
    "\n",
    "If you have Python questions or run into problems while completing the reading, you should post them to Piazza instead so you can get a quick response before your journal is submitted."
   ]
  },
  {
   "cell_type": "code",
   "execution_count": null,
   "metadata": {
    "collapsed": true
   },
   "outputs": [],
   "source": []
  }
 ],
 "metadata": {
  "kernelspec": {
   "display_name": "Python 3",
   "language": "python",
   "name": "python3"
  },
  "language_info": {
   "codemirror_mode": {
    "name": "ipython",
    "version": 3
   },
   "file_extension": ".py",
   "mimetype": "text/x-python",
   "name": "python",
   "nbconvert_exporter": "python",
   "pygments_lexer": "ipython3",
   "version": "3.4.3"
  }
 },
 "nbformat": 4,
 "nbformat_minor": 0
}
