{
 "cells": [
  {
   "cell_type": "markdown",
   "metadata": {},
   "source": [
    "# Day 1 Reading Journal\n",
    "\n",
    "Hi everyone.  These are the exercises for the first set of readings from ThinkPython.  While this journal consists of several required exercises, it is meant to encourage active reading more generally.  You should use this journal to take detailed notes, catalog questions, and explore the content from ThinkPython deeply.\n",
    "\n",
    "For more information on using the Jupyter notebook, check out the documentation [here](https://www.datacamp.com/community/tutorials/tutorial-jupyter-notebook##UseJupyter).\n",
    "\n",
    "Additionally, in order to write text in this document, you will be making use of Markdown cells. A handy cheatsheet for Markdown is available [here](https://github.com/adam-p/markdown-here/wiki/Markdown-Cheatsheet)."
   ]
  },
  {
   "cell_type": "markdown",
   "metadata": {},
   "source": [
    "## Linux Chapter 1\n",
    "### Notes: \n",
    "distribution-collection of software, includes Linux Kernal and lots of applications  \n",
    "^new terminal- ctrl, alt, t  \n",
    "^whoami- shows who logge din as  \n",
    "^date- prints current date and time  \n",
    "file- document stored on a disk  \n",
    "directory- named collection of files, like a folder  \n",
    "^pwd- print working directory  \n",
    "^ls- list all files in the directory you're in  \n",
    "^ls / - list of contents of top level directory  \n",
    "directories are blue  \n",
    "executable files are green  \n",
    "links pointing to other fields are cyan  \n",
    "\"set-uid root\" files (when they execute, run as root) are red  \n",
    "^ping- checks whether machine on network is running  \n",
    "^ctr c- stop running a program  \n",
    "^cd- change directory  \n",
    "superuser is system admin  \n",
    "^sudo- asks for password to do things you usually can't  \n",
    "emacs \"Editor MACroS\""
   ]
  },
  {
   "cell_type": "markdown",
   "metadata": {},
   "source": [
    "## Chapter 1\n",
    "\n",
    "Note: the exercise numbers match up with the reading for ease of cross referencing."
   ]
  },
  {
   "cell_type": "markdown",
   "metadata": {},
   "source": [
    "### Notes: \n",
    "problem solving!   \n",
    "program- sequence of instructions to tell how to perform computation  \n",
    "^input- get data   \n",
    "^output- display  \n",
    "^math- perform basic math  \n",
    "^conditional execution- check for certain condition then run code  \n",
    "^repetition- perform action repeatedly  \n",
    "Python interpreter is program that reads and executed Python code  \n",
    "prompt indicates interpreter is ready for code  \n",
    "print statment displays results on screen  \n",
    "operators are symbols for computation (+,-,/,*)  \n",
    "^* * is exponents  \n",
    "value can be a integer, floating-point number, string...  \n",
    "class, like category  \n",
    "programming languages designed to express computations  \n",
    "don't forget the syntax!  \n",
    "tokens are basic elements of language  \n",
    "parsing, figuring out structureof formal language  \n",
    "ambiguity, redundancy, literalness all different between natural and formal languages  \n",
    "formal language:natural language::poem:prose  \n",
    "debugging=solving bugs/problems  \n",
    "\n"
   ]
  },
  {
   "cell_type": "markdown",
   "metadata": {},
   "source": [
    "### Exercise 1.2\n",
    "\n",
    "Start the Python interpreter and use it as a calculator. Python’s syntax for math operations is almost the same as standard mathematical notation. For example, the symbols +, - and / denote addition, subtraction and division, as you would expect. The symbol for multiplication is *.\n",
    "\n",
    "* How many seconds are there in 42 minutes 42 seconds?\n",
    "* How many miles are there in 10 kilometers? Hint: there are 1.61 kilometers in a mile.\n",
    "* If you run a 10 kilometer race in 42 minutes 42 seconds, what is your average pace (time per mile in minutes and seconds)? What is your average speed in miles per hour?"
   ]
  },
  {
   "cell_type": "markdown",
   "metadata": {
    "collapsed": false
   },
   "source": [
    "2562 seconds  \n",
    "6.2112 miles  \n",
    "6.8747 mimutes/mile    8.7277 mph"
   ]
  },
  {
   "cell_type": "markdown",
   "metadata": {},
   "source": [
    "## Chapter 2"
   ]
  },
  {
   "cell_type": "markdown",
   "metadata": {},
   "source": [
    "### Notes:\n",
    "variable is name that refers to a value  \n",
    "assignment statement creates new variable and gives it a value  \n",
    "state diagram wirte name with arrow pointing to value on paper  \n",
    "choose smart variable names  \n",
    "conventional to start variable with lowercase letters  \n",
    "can't start variable name with number  \n",
    "can't use key words  \n",
    "key words in other color  \n",
    "expression is combination of values, variables, and operators  \n",
    "statement is unit of code that has an effect  \n",
    "executes meaning does the thing of code  \n",
    "script (like in Matlab)  \n",
    "PEMDAS  \n",
    "+ for string concatination  \n",
    "* to perform repetition of string\n",
    "comment. please. #  \n",
    "explain why not what  \n",
    "Syntax Error, compile time error  \n",
    "Runtime Error, runtime error  \n",
    "Semantic Error, run with no error, won't do the right thing  \n",
    "\n"
   ]
  },
  {
   "cell_type": "markdown",
   "metadata": {},
   "source": [
    "### Exercise\n",
    "\n",
    "Assume that we execute the following assignment statements:\n",
    "\n",
    "```\n",
    "width = 17\n",
    "height = 12.0\n",
    "delimiter = '.'\n",
    "```\n",
    "\n",
    "For each of the following expressions, write the value of the expression and the type (of the value of the expression).\n",
    "\n",
    "1. `width/2`\n",
    "2. `width/2.0`\n",
    "3. `height/3`\n",
    "4. `1 + 2 * 5`\n",
    "5. `delimiter * 5`\n",
    "\n",
    "Please use the following markdown cell to provide your answer."
   ]
  },
  {
   "cell_type": "markdown",
   "metadata": {},
   "source": [
    "1. 8.5  \n",
    "2. 8.5  \n",
    "3. 4.0  \n",
    "4. 11  \n",
    "5. '.....'"
   ]
  },
  {
   "cell_type": "markdown",
   "metadata": {},
   "source": [
    "### Exercise 2\n",
    "\n",
    "Practice using the Python interpreter as a calculator.  For each of these provide Python code that computes each answer."
   ]
  },
  {
   "cell_type": "markdown",
   "metadata": {},
   "source": [
    "The volume of a sphere with radius r is 4/3 $\\pi r^3$. What is the volume of a sphere with radius 5? Hint: 392.7 is wrong!"
   ]
  },
  {
   "cell_type": "markdown",
   "metadata": {
    "collapsed": true
   },
   "source": [
    "(4/3)*3.1415*(5**3)  \n",
    "523.5833"
   ]
  },
  {
   "cell_type": "markdown",
   "metadata": {},
   "source": [
    "Suppose the cover price of a book is \\$24.95, but bookstores get a 40% discount. Shipping costs \\$3 for the first copy and 75 cents for each additional copy. What is the total wholesale cost for 60 copies?"
   ]
  },
  {
   "cell_type": "markdown",
   "metadata": {
    "collapsed": true
   },
   "source": [
    "((24.95*60)+(3)+(.75*59))*.60  \n",
    "I took the price assuming we were looking at the price at the bookstore, which was 40% off of the cover price.   \n",
    "$926.55"
   ]
  },
  {
   "cell_type": "markdown",
   "metadata": {},
   "source": [
    "If I leave my house at 6:52 am and run 1 mile at an easy pace (8:15 per mile), then 3 miles at tempo (7:12 per mile) and 1 mile at easy pace again, what time do I get home for breakfast? "
   ]
  },
  {
   "cell_type": "markdown",
   "metadata": {},
   "source": [
    "(8.15+(3*7.12)+8.15)  \n",
    "38.06 minute run  \n",
    "6.52+.3806 = 6.9006  \n",
    "\n",
    "7:30 am"
   ]
  },
  {
   "cell_type": "markdown",
   "metadata": {},
   "source": [
    "## Chapter 3"
   ]
  },
  {
   "cell_type": "markdown",
   "metadata": {},
   "source": [
    "### Notes:  \n",
    "argument- expression in parentheses in the function  \n",
    "result of function= return value  \n",
    "int(#) takes number and makes it an integer, doesn't round  \n",
    "float(#) take int makes it a float  \n",
    "str(#) makes something a string  \n",
    "module- file that contains related functions  \n",
    "impit statemnt to import modules so they can be used  \n",
    "math! 'import math'  \n",
    "dot notation    math.log10  \n",
    "math.pi  \n",
    "function definition specifies name and what to run of function  \n",
    "def function():  \n",
    "indentation = 4 spaces  \n",
    "''=\"\"  \n",
    "enter empty line to end function  \n",
    "flow of execution - order statements run in  \n",
    "parameters what you pass into the function  \n",
    "variable in a function = local, onlu in function  \n",
    "stack diagram aka plan out your code on paper  \n",
    "traceback - tells what program file the error was in  \n",
    "void function return nothing  \n",
    "\"fruitful\" functions have results  \n"
   ]
  },
  {
   "cell_type": "markdown",
   "metadata": {},
   "source": [
    "### Exercise 1\n",
    "\n",
    "Write a function named `right_justify` that takes a string named s as a parameter and prints the string with enough leading spaces so that the last letter of the string is in column 70 of the display.\n",
    "\n",
    "```\n",
    ">>> right_justify('monty')\n",
    "                                                                 monty\n",
    "```\n",
    "Hint: Use string concatenation and repetition. Also, Python provides a built-in function called `len` that returns the length of a string, so the value of `len('monty')` is 5."
   ]
  },
  {
   "cell_type": "code",
   "execution_count": 26,
   "metadata": {
    "collapsed": false
   },
   "outputs": [
    {
     "name": "stdout",
     "output_type": "stream",
     "text": [
      "                                                                 monty\n"
     ]
    }
   ],
   "source": [
    "def right_justify(s):\n",
    "    length = len(s)\n",
    "    rep = 70-length\n",
    "    space = ' '\n",
    "    printString = space*rep+s\n",
    "    print(printString)\n",
    "\n",
    "    \n",
    "right_justify('monty')"
   ]
  },
  {
   "cell_type": "markdown",
   "metadata": {},
   "source": [
    "### Exercise 5\n",
    "\n",
    "Note: This exercise should be done using only the statements and other features we have learned so far.\n",
    "\n",
    "Write a function that draws a grid like the following:\n",
    "\n",
    "```\n",
    "+ - - - - + - - - - +\n",
    "|         |         |\n",
    "|         |         |\n",
    "|         |         |\n",
    "|         |         |\n",
    "+ - - - - + - - - - +\n",
    "|         |         |\n",
    "|         |         |\n",
    "|         |         |\n",
    "|         |         |\n",
    "+ - - - - + - - - - +\n",
    "```\n",
    "\n",
    "*Hint*: to print more than one value on a line, you can print a comma-separated sequence of values:\n",
    "\n",
    "```\n",
    "print('+', '-')\n",
    "```\n",
    "\n",
    "By default, `print` advances to the next line, but you can override that behavior and put a space at the end, like this:\n",
    "\n",
    "```\n",
    "print('+', end=' ')\n",
    "print('-')\n",
    "```\n",
    "\n",
    "The output of these statements is '+ -'.\n",
    "\n",
    "A `print` statement with no argument ends the current line and goes to the next line."
   ]
  },
  {
   "cell_type": "code",
   "execution_count": 61,
   "metadata": {
    "collapsed": false
   },
   "outputs": [
    {
     "name": "stdout",
     "output_type": "stream",
     "text": [
      "+  - - - -  +  - - - -  + \n",
      "|           |           |\n",
      "|           |           |\n",
      "|           |           |\n",
      "|           |           | \n",
      "+  - - - -  +  - - - -  + \n",
      "|           |           |\n",
      "|           |           |\n",
      "|           |           |\n",
      "|           |           |\n",
      "+  - - - -  +  - - - -  +\n"
     ]
    }
   ],
   "source": [
    "def box():\n",
    "    print(\"+ \", '- '*4, '+ ', '- '*4, '+', end=' ')\n",
    "    print()\n",
    "    print('|', ' '*9, '|', ' '*9, '|')\n",
    "    print('|', ' '*9, '|', ' '*9, '|')\n",
    "    print('|', ' '*9, '|', ' '*9, '|') \n",
    "    print('|', ' '*9, '|', ' '*9, '|', end=' ')\n",
    "    print()\n",
    "    print(\"+ \", '- '*4, '+ ', '- '*4, '+', end=' ')\n",
    "    print()\n",
    "    print('|', ' '*9, '|', ' '*9, '|')\n",
    "    print('|', ' '*9, '|', ' '*9, '|')\n",
    "    print('|', ' '*9, '|', ' '*9, '|')\n",
    "    print('|', ' '*9, '|', ' '*9, '|', end='')\n",
    "    print()\n",
    "    print(\"+ \", '- '*4, '+ ', '- '*4, '+')\n",
    "\n",
    "\n",
    "box()\n",
    "#I tried to get the right spacing between the vertical lines but I \n",
    "#I couldn't get them quite right, I tried ending between each line, \n",
    "#I tried just printing, nothing made it quite right"
   ]
  },
  {
   "cell_type": "markdown",
   "metadata": {},
   "source": [
    "(b) Write a function that draws a similar grid with four rows and four columns."
   ]
  },
  {
   "cell_type": "code",
   "execution_count": 25,
   "metadata": {
    "collapsed": false
   },
   "outputs": [
    {
     "name": "stdout",
     "output_type": "stream",
     "text": [
      "+  - - - -  +  - - - -  +  - - - -  +  - - - -  +  \n",
      "|           |           |           |           |\n",
      "|           |           |           |           |\n",
      "|           |           |           |           |\n",
      "|           |           |           |           | \n",
      "+  - - - -  +  - - - -  +  - - - -  +  - - - -  +  \n",
      "|           |           |           |           |\n",
      "|           |           |           |           |\n",
      "|           |           |           |           |\n",
      "|           |           |           |           | \n",
      "+  - - - -  +  - - - -  +  - - - -  +  - - - -  +  \n",
      "|           |           |           |           |\n",
      "|           |           |           |           |\n",
      "|           |           |           |           |\n",
      "|           |           |           |           | \n",
      "+  - - - -  +  - - - -  +  - - - -  +  - - - -  +  \n",
      "|           |           |           |           |\n",
      "|           |           |           |           |\n",
      "|           |           |           |           |\n",
      "|           |           |           |           | \n",
      "+  - - - -  +  - - - -  +  - - - -  +  - - - -  +  "
     ]
    }
   ],
   "source": [
    "def box():\n",
    "    print(\"+ \", '- '*4, '+ ', '- '*4, '+ ', '- '*4, '+ ', '- '*4, '+ ', end=' ')\n",
    "    print()\n",
    "    print('|', ' '*9, '|', ' '*9, '|', ' '*9, '|', ' '*9, '|')\n",
    "    print('|', ' '*9, '|', ' '*9, '|', ' '*9, '|', ' '*9, '|')\n",
    "    print('|', ' '*9, '|', ' '*9, '|', ' '*9, '|', ' '*9, '|')\n",
    "    print('|', ' '*9, '|', ' '*9, '|', ' '*9, '|', ' '*9, '|', end=' ')\n",
    "    print()\n",
    "    print(\"+ \", '- '*4, '+ ', '- '*4, '+ ', '- '*4, '+ ', '- '*4, '+ ', end=' ')\n",
    "    print()\n",
    "    print('|', ' '*9, '|', ' '*9, '|', ' '*9, '|', ' '*9, '|')\n",
    "    print('|', ' '*9, '|', ' '*9, '|', ' '*9, '|', ' '*9, '|')\n",
    "    print('|', ' '*9, '|', ' '*9, '|', ' '*9, '|', ' '*9, '|')\n",
    "    print('|', ' '*9, '|', ' '*9, '|', ' '*9, '|', ' '*9, '|', end=' ')\n",
    "    print()\n",
    "    print(\"+ \", '- '*4, '+ ', '- '*4, '+ ', '- '*4, '+ ', '- '*4, '+ ', end=' ')\n",
    "    print()\n",
    "    print('|', ' '*9, '|', ' '*9, '|', ' '*9, '|', ' '*9, '|')\n",
    "    print('|', ' '*9, '|', ' '*9, '|', ' '*9, '|', ' '*9, '|')\n",
    "    print('|', ' '*9, '|', ' '*9, '|', ' '*9, '|', ' '*9, '|')\n",
    "    print('|', ' '*9, '|', ' '*9, '|', ' '*9, '|', ' '*9, '|', end=' ')\n",
    "    print()\n",
    "    print(\"+ \", '- '*4, '+ ', '- '*4, '+ ', '- '*4, '+ ', '- '*4, '+ ', end=' ')\n",
    "    print()\n",
    "    print('|', ' '*9, '|', ' '*9, '|', ' '*9, '|', ' '*9, '|')\n",
    "    print('|', ' '*9, '|', ' '*9, '|', ' '*9, '|', ' '*9, '|')\n",
    "    print('|', ' '*9, '|', ' '*9, '|', ' '*9, '|', ' '*9, '|')\n",
    "    print('|', ' '*9, '|', ' '*9, '|', ' '*9, '|', ' '*9, '|', end=' ')\n",
    "    print()\n",
    "    print(\"+ \", '- '*4, '+ ', '- '*4, '+ ', '- '*4, '+ ', '- '*4, '+ ', end=' ')\n",
    "\n",
    "box()"
   ]
  },
  {
   "cell_type": "markdown",
   "metadata": {},
   "source": [
    "## Chapter 5.1 - 5.7"
   ]
  },
  {
   "cell_type": "markdown",
   "metadata": {},
   "source": [
    "### Notes:  \n",
    "floor division (//)divides 2 numbers, rounds down and integer  \n",
    "modulus (%) divides 2 numbers, returns remainder  \n",
    "boolean expression - true/false  \n",
    "relational operators, like (==)  \n",
    "logical operators (and, or, not)  \n",
    "Conditional statements (if/else)  \n",
    "boolean after if=condition  \n",
    "compound statements  \n",
    "\"pass\" statement does nothing  \n",
    "chained conditionals (iuse elseif, one word)  \n",
    "Nested conditionals!  "
   ]
  },
  {
   "cell_type": "markdown",
   "metadata": {},
   "source": [
    "### Exercise 2\n",
    "\n",
    "Fermat’s Last Theorem says that there are no positive integers $a$, $b$, and $c$ such that $$a^n + b^n = c^n$$ for any values of $n$ greater than 2.\n",
    "\n",
    "1\\. Write a function named `check_fermat` that takes four parameters – $a$, $b$, $c$ and $n$ – and that checks to see if Fermat’s theorem holds. If n is greater than 2 and it turns out to be true that\n",
    "$$a^n + b^n = c^n$$ the program should print, \"Holy smokes, Fermat was wrong!\" Otherwise the program should print, \"No, that doesn’t work.\""
   ]
  },
  {
   "cell_type": "code",
   "execution_count": 31,
   "metadata": {
    "collapsed": false
   },
   "outputs": [
    {
     "name": "stdout",
     "output_type": "stream",
     "text": [
      "No, that doesn't work\n"
     ]
    }
   ],
   "source": [
    "def check_fermat(a, b, c, n):\n",
    "    ferm = (a**n)+(b**n)\n",
    "\n",
    "    if ferm == c**n:\n",
    "        print('Holy smokes, Fermat was wrong!')\n",
    "    else:\n",
    "        print(\"No, that doesn't work\")\n",
    "        \n",
    "        \n",
    "        \n",
    "check_fermat(1, 2, 3, 4)"
   ]
  },
  {
   "cell_type": "markdown",
   "metadata": {},
   "source": [
    "2\\. Write a function that prompts the user to input values for $a$, $b$, $c$ and $n$, converts them to integers, and uses `check_fermat` to check whether they violate Fermat’s theorem."
   ]
  },
  {
   "cell_type": "code",
   "execution_count": 32,
   "metadata": {
    "collapsed": false
   },
   "outputs": [
    {
     "name": "stdout",
     "output_type": "stream",
     "text": [
      "No, that doesn't work\n"
     ]
    }
   ],
   "source": [
    "def convert_to_int(a, b, c, n):\n",
    "    alf = int(a)\n",
    "    bet = int(b)\n",
    "    see = int(c)\n",
    "    m = int(n)\n",
    "\n",
    "    check_fermat(alf, bet, see, m)\n",
    "    \n",
    "\n",
    "convert_to_int(12.4, 7.8, 2.5, 1)"
   ]
  },
  {
   "cell_type": "markdown",
   "metadata": {},
   "source": [
    "### Exercise 4  \n",
    "\n",
    "If you are given three sticks, you may or may not be able to arrange them in a triangle. For example, if one of the sticks is 12 inches long and the other two are one inch long, it is clear that you will not be able to get the short sticks to meet in the middle. For any three lengths, there is a simple test to see if it is possible to form a triangle:\n",
    "> If any of the three lengths is greater than the sum of the other two, then you cannot form a triangle. Otherwise, you can. (If the sum of two lengths equals the third, they form what is called a “degenerate” triangle.)\n",
    "\n",
    "1\\. Write a function named `is_triangle` that takes three integers as arguments, and that prints either \"Yes\" or \"No,\" depending on whether you can or cannot form a triangle from sticks with the given lengths."
   ]
  },
  {
   "cell_type": "code",
   "execution_count": 49,
   "metadata": {
    "collapsed": false
   },
   "outputs": [
    {
     "name": "stdout",
     "output_type": "stream",
     "text": [
      "Yes\n"
     ]
    }
   ],
   "source": [
    "def is_triangle(a, b, c):\n",
    "    tri = True\n",
    "\n",
    "    if a+b <= c:\n",
    "        tri = False\n",
    "    elif a+c <= b:\n",
    "        tri = False\n",
    "    elif b+c <= a:\n",
    "        tri = False\n",
    "\n",
    "    if tri:\n",
    "        print('Yes')\n",
    "    else:\n",
    "        print('No')\n",
    "        \n",
    "is_triangle(3, 4, 5)"
   ]
  },
  {
   "cell_type": "markdown",
   "metadata": {},
   "source": [
    "2\\. Write a function that prompts the user to input three stick lengths, converts them to integers, and uses `is_triangle` to check whether sticks with the given lengths can form a triangle."
   ]
  },
  {
   "cell_type": "code",
   "execution_count": 53,
   "metadata": {
    "collapsed": false
   },
   "outputs": [
    {
     "name": "stdout",
     "output_type": "stream",
     "text": [
      "No\n"
     ]
    }
   ],
   "source": [
    "def convert_to_int(a, b, c):\n",
    "    alf = int(a)\n",
    "    bet = int(b)\n",
    "    see = int(c)\n",
    "\n",
    "    is_triangle(alf, bet, see)\n",
    "    \n",
    "\n",
    "is_triangle(12.4, 7.8, 2.5)"
   ]
  },
  {
   "cell_type": "markdown",
   "metadata": {},
   "source": [
    "## Quick poll\n",
    "About how long did you spend working on this Reading Journal?"
   ]
  },
  {
   "cell_type": "markdown",
   "metadata": {},
   "source": [
    "Probably around 3 hours"
   ]
  },
  {
   "cell_type": "markdown",
   "metadata": {},
   "source": [
    "## Notes for the Instructors\n",
    "\n",
    "Please use the space below to write comments to help us plan the next class session.  For instance, if you want to see us go over an example of a particular type of problem, you can indicate that here.\n",
    "\n",
    "Please remember that the best way to get quick feedback from the instructors as well as your peers, is to use Piazza.  However, consider using this channel if it doesn't make sense to post your note to Piazza."
   ]
  },
  {
   "cell_type": "markdown",
   "metadata": {},
   "source": [
    "I'm just wondering how many notes we should take? Since I've done programming before most of these first chapters were just review. I took a lot of note but most of them I didn't really need since I have programming experience. How many notes should we be taking? And how in depth should they go?"
   ]
  }
 ],
 "metadata": {
  "kernelspec": {
   "display_name": "Python 3",
   "language": "python",
   "name": "python3"
  },
  "language_info": {
   "codemirror_mode": {
    "name": "ipython",
    "version": 3
   },
   "file_extension": ".py",
   "mimetype": "text/x-python",
   "name": "python",
   "nbconvert_exporter": "python",
   "pygments_lexer": "ipython3",
   "version": "3.4.3"
  }
 },
 "nbformat": 4,
 "nbformat_minor": 0
}
