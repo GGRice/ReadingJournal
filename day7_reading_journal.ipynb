{
 "cells": [
  {
   "cell_type": "markdown",
   "metadata": {},
   "source": [
    "# Day 7 Reading Journal\n",
    "\n",
    "This journal includes several required exercises, but it is meant to encourage active reading more generally.  You should use the journal to take detailed notes, catalog questions, and explore the content from Think Python deeply.\n",
    "\n",
    "Reading: Think Python Chapter 11, 12\n",
    "\n",
    "**Due: Monday, February 13 at 12 noon**\n",
    "\n"
   ]
  },
  {
   "cell_type": "markdown",
   "metadata": {},
   "source": [
    "## [Chapter 11](http://www.greenteapress.com/thinkpython/html/thinkpython012.html)\n"
   ]
  },
  {
   "cell_type": "markdown",
   "metadata": {},
   "source": [
    "### Notes\n",
    "Dictionary is more general list  \n",
    "Indices in dictionaries can be almost any type  \n",
    "-mapping between set of indices (keys) and set of values  \n",
    "key-value pair aka item  \n",
    "{} represents empy dictionary  \n",
    "dict['One'] = 'uno' creates item from key one to value uno  \n",
    "output -> {'One' : 'uno'}  \n",
    "order of items in dictionary unpredictable  \n",
    "len(dict) returns number key-value pairs  \n",
    "in operator tells if something is a key in the dictionary  \n",
    "dict.values() returns values as a list  \n",
    "hashtables  \n",
    "for c in h, c is the key  \n",
    "lookup v = d[k], finds value at key k  \n",
    "reverse lookup, need a function  \n",
    "raise causes an exception  \n",
    "lists can be value in a dictionary  \n",
    "singleton - list that contains one element  \n",
    "hash - functionthat takes a value and returns an int  \n",
    "thes integers = hash values  \n",
    "dictionaries use hash value to store/look up key-value pairs  \n",
    "call graph shows a set of function frames with lines connecting frames tha call each other to each other  \n",
    "memo - previously computed value  \n",
    "global variables can be accessed from any function  \n",
    "flags - indicate whether condition is true or not  \n",
    "must declare global variable before using  \n",
    "L lets you know the result is a long integer, or typle long  \n",
    "In Pythin 3 everything is an int  \n",
    "scae down input   \n",
    "check everything  \n",
    "write self checks  \n",
    "make output nice looking"
   ]
  },
  {
   "cell_type": "markdown",
   "metadata": {},
   "source": [
    "**Quick check:** In about one sentence using your own words, what is a dictionary?"
   ]
  },
  {
   "cell_type": "markdown",
   "metadata": {},
   "source": [
    "A dcitionary is like a more general list with indices (keys) of any type that pair with a value. The key-value pairs in dictionaries doen's have a specific order. "
   ]
  },
  {
   "cell_type": "markdown",
   "metadata": {},
   "source": [
    " "
   ]
  },
  {
   "cell_type": "markdown",
   "metadata": {
    "is_question": true,
    "problem": "Exercise 11.2"
   },
   "source": [
    "### Exercise 11.2  \n",
    "\n",
    "Dictionaries have a method called [`get`](https://docs.python.org/3/library/stdtypes.html#mapping-types-dict) that takes a key and a default value. If the key appears in the dictionary, `get` returns the corresponding value; otherwise it returns the default value. For example:\n",
    "\n",
    "```\n",
    ">>> h = histogram('a')\n",
    ">>> print h\n",
    "{'a': 1}\n",
    ">>> h.get('a', 0)\n",
    "1\n",
    ">>> h.get('b', 0)\n",
    "0\n",
    "```\n",
    "\n",
    "Use `get` to write `histogram` more concisely. You should be able to eliminate the `if` statement. Add unit tests for your histogram implementation."
   ]
  },
  {
   "cell_type": "code",
   "execution_count": 9,
   "metadata": {
    "collapsed": false,
    "solution": "Exercise 11.2"
   },
   "outputs": [
    {
     "name": "stdout",
     "output_type": "stream",
     "text": [
      "{'r': 2, 'o': 2, 'n': 1, 't': 1, 'b': 1, 'a': 1, 's': 2, 'u': 2}\n"
     ]
    }
   ],
   "source": [
    "def histogram(s):\n",
    "    d = dict()\n",
    "    for c in s:\n",
    "        if c not in d:\n",
    "            d[c] = 1\n",
    "        else:\n",
    "            d[c] += 1\n",
    "    return d\n",
    "\n",
    "print(histogram('brontosaurus'))"
   ]
  },
  {
   "cell_type": "code",
   "execution_count": 4,
   "metadata": {
    "collapsed": false
   },
   "outputs": [
    {
     "name": "stdout",
     "output_type": "stream",
     "text": [
      "{'s': 2, 'r': 2, 'o': 2, 't': 1, 'b': 1, 'n': 1, 'a': 1, 'u': 2}\n"
     ]
    }
   ],
   "source": [
    "def newHist(s):\n",
    "    d = dict()\n",
    "    for c in s:\n",
    "        d[c] = d.get(c, 0)+1\n",
    "        \n",
    "    return d\n",
    "\n",
    "print(newHist('brontosaurus'))"
   ]
  },
  {
   "cell_type": "markdown",
   "metadata": {},
   "source": [
    " "
   ]
  },
  {
   "cell_type": "markdown",
   "metadata": {
    "is_question": true,
    "problem": "Exercise 11.4"
   },
   "source": [
    "### Exercise 11.4  \n",
    "\n",
    "Modify `reverse_lookup` so that it builds and returns a list of all keys that map to `v`, or an empty list if there are none. Add unit tests for your implementation."
   ]
  },
  {
   "cell_type": "code",
   "execution_count": 11,
   "metadata": {
    "collapsed": false,
    "solution": "Exercise 11.4"
   },
   "outputs": [
    {
     "name": "stdout",
     "output_type": "stream",
     "text": [
      "b\n"
     ]
    }
   ],
   "source": [
    "def reverse_lookup(d, v):\n",
    "    for k in d:\n",
    "        if d[k] == v:\n",
    "            return k\n",
    "    raise ValueError\n",
    "    \n",
    "print(reverse_lookup({'r': 2, 'o': 2, 'n': 1, 't': 1, 'b': 1, 'a': 1, 's': 2, 'u': 2},1))"
   ]
  },
  {
   "cell_type": "code",
   "execution_count": 12,
   "metadata": {
    "collapsed": false
   },
   "outputs": [
    {
     "name": "stdout",
     "output_type": "stream",
     "text": [
      "['b', 't', 'n', 'a']\n"
     ]
    }
   ],
   "source": [
    "def reverse_lookup(d, v):\n",
    "    values = []\n",
    "    for k in d:\n",
    "        if d[k] == v:\n",
    "            values.append(k)\n",
    "    return values\n",
    "    #raise ValueError\n",
    "print(reverse_lookup({'r': 2, 'o': 2, 'n': 1, 't': 1, 'b': 1, 'a': 1, 's': 2, 'u': 2},1))"
   ]
  },
  {
   "cell_type": "markdown",
   "metadata": {},
   "source": [
    "If you'd like to learn more about errors and exceptions, you can check out the [Python tutorial](https://docs.python.org/3/tutorial/errors.html) or read ahead to [Appendix A](http://www.greenteapress.com/thinkpython2/html/thinkpython2021.html) of Think Python. If you choose to use doctest for your unit testing, it can also [deal with exceptions](https://docs.python.org/3/library/doctest.html#what-about-exceptions)."
   ]
  },
  {
   "cell_type": "markdown",
   "metadata": {},
   "source": [
    " "
   ]
  },
  {
   "cell_type": "markdown",
   "metadata": {},
   "source": [
    "**Quick check** What type of objects can be used as keys to a dictionary, i.e. what property must they have?"
   ]
  },
  {
   "cell_type": "markdown",
   "metadata": {},
   "source": [
    "Keys can be almost anytype, however they do have to be uniqe within a dictionary (ie no booleans)."
   ]
  },
  {
   "cell_type": "markdown",
   "metadata": {},
   "source": [
    " "
   ]
  },
  {
   "cell_type": "markdown",
   "metadata": {
    "is_question": true,
    "problem": "Exercise 11.6"
   },
   "source": [
    "### Exercise 11.6 (modified)\n",
    "\n",
    "Create a memoized version of your Levenshtein distance function from Day 7. What kind of performance change do you see?\n",
    "\n",
    "Optional: If you'd like to get some quantitative results, you could check out the [timeit](https://docs.python.org/3/library/timeit.html) module\n",
    "\n",
    "Note: You can also study Fibonacci here if you prefer."
   ]
  },
  {
   "cell_type": "code",
   "execution_count": 26,
   "metadata": {
    "collapsed": false,
    "solution": "Exercise 11.6"
   },
   "outputs": [
    {
     "name": "stdout",
     "output_type": "stream",
     "text": [
      "2\n"
     ]
    }
   ],
   "source": [
    "levNum = 0\n",
    "\n",
    "\n",
    "def memLev(s1, s2):\n",
    "    global levNum\n",
    "\n",
    "    if len(s1) <= 1 or len(s2) <= 1:\n",
    "        left = abs(len(s1)-len(s2))\n",
    "        return levNum + left\n",
    "    else:\n",
    "        if s1[0] == s2[0]:\n",
    "            s1 = s1[1:]\n",
    "            s2 = s2[1:]\n",
    "            return memLev(s1, s2)\n",
    "        else:\n",
    "            levNum = levNum + 1\n",
    "            s1 = s1[1:]\n",
    "            s2 = s2[1:]\n",
    "            return memLev(s1, s2)\n",
    "        \n",
    "        \n",
    "print(memLev('sitten', 'sitting'))"
   ]
  },
  {
   "cell_type": "markdown",
   "metadata": {},
   "source": [
    " "
   ]
  },
  {
   "cell_type": "markdown",
   "metadata": {},
   "source": [
    "## [Chapter 12](http://www.greenteapress.com/thinkpython2/html/thinkpython2013.html)\n",
    "\n",
    "**Quick check:** In about one sentence using your own words, what is a tuple?"
   ]
  },
  {
   "cell_type": "markdown",
   "metadata": {},
   "source": [
    "A tuple is an immutable sequence of any type values with integer indices."
   ]
  },
  {
   "cell_type": "markdown",
   "metadata": {},
   "source": [
    "### Notes\n",
    "tuple is a sequence of values  \n",
    "values of any type  \n",
    "values indexed by integers  \n",
    "tuples are immutable (unlike lists)  \n",
    "tuples don't need parenthesis  \n",
    "tuple of single element needs comma at the end  \n",
    "single value in paren, not tuple  \n",
    "if argument is sequence result is tupple with elements of the sequence  \n",
    "most list operatos work on tuples  \n",
    "you can't modify elements of tuple  \n",
    "can replacce one tuple with another  \n",
    "temp = a    a=b    b=temp  \n",
    "tuple assignment: a, b = b, a  \n",
    "number of variable on left must = number on right  \n",
    "left side of tuple is variables, left sied is expressions  \n",
    "returning tuple is like returning multiple variables  \n",
    "parameter name starting with * gather carguments in tuple  \n",
    "complement of gather is scatter  \n",
    "zip object  \n",
    "iterator, any object that iterates through sequence  \n",
    "enumerate traverses elements of sequence and their indices  \n",
    "dict.items() returns sequence of tuples, each tuple is key-value pair  \n",
    "common to use tuples as keys in dictionaries  \n",
    "might want tupple for returns, to use sequence as dict key, reduce potential for unexpected behavior from aliasing  \n",
    "data structures, all these sequence things we've learned  \n",
    "shape errors, errors caueds when data structure had wrong type/size/structure  \n"
   ]
  },
  {
   "cell_type": "markdown",
   "metadata": {},
   "source": [
    " "
   ]
  },
  {
   "cell_type": "markdown",
   "metadata": {
    "is_question": true,
    "problem": "Exercise 12.1"
   },
   "source": [
    "### Chapter 12.4  \n",
    "\n",
    "Many of the built-in functions use variable-length argument tuples. For example, `max` and `min` can take any number of arguments:\n",
    "\n",
    "```\n",
    ">>> max(1,2,3)\n",
    "3\n",
    "```\n",
    "\n",
    "But `sum` does not.\n",
    "\n",
    "```\n",
    ">>> sum(1,2,3)\n",
    "TypeError: sum expected at most 2 arguments, got 3\n",
    "```\n",
    "\n",
    "Write a function called ```sumall``` that takes any number of arguments and returns their sum. \n",
    "\n",
    "Write unit tests for your function. Do I actually need to keep saying this? Let's assume it's always a good idea :)"
   ]
  },
  {
   "cell_type": "code",
   "execution_count": 16,
   "metadata": {
    "collapsed": false,
    "solution": "Exercise 12.1"
   },
   "outputs": [
    {
     "name": "stdout",
     "output_type": "stream",
     "text": [
      "14\n"
     ]
    }
   ],
   "source": [
    "def sumall(*t):\n",
    "    suma = 0\n",
    "    for i in t:\n",
    "        suma += int(i)\n",
    "    return suma\n",
    "\n",
    "print(sumall('1','1','2','3','7'))"
   ]
  },
  {
   "cell_type": "markdown",
   "metadata": {},
   "source": [
    "If you're interested in more flexible ways to pass arguments to functions, check out the [Python tutorial](https://docs.python.org/3/tutorial/controlflow.html#more-on-defining-functions). For instance, you can also use keyword arguments, which are collected into a dictionary just like `*` gathers variable numbers of positional arguments into a tuple.\n",
    "\n",
    "This pattern is very common for defining functions with complex optional behaviors in Python, and you will often see definitions like:\n",
    "\n",
    "```\n",
    "def my_func(required_argument1, *arguments, **keywords):\n",
    "    ...\n",
    "```"
   ]
  },
  {
   "cell_type": "markdown",
   "metadata": {},
   "source": [
    " "
   ]
  },
  {
   "cell_type": "markdown",
   "metadata": {
    "is_question": true,
    "problem": "Exercise 12 sort"
   },
   "source": [
    "### Exercise\n",
    "\n",
    "Write a function `sort_by_last_letter` that takes a list of words and returns a new list with the words sorted alphabetically by the _last letter_ in the word. Hint: use the **Decorate, Sort, Undecorate** pattern. Write unit tests for your function."
   ]
  },
  {
   "cell_type": "code",
   "execution_count": 41,
   "metadata": {
    "collapsed": false,
    "solution": "Exercise 12 sort"
   },
   "outputs": [
    {
     "name": "stdout",
     "output_type": "stream",
     "text": [
      "['k', 'two', 'w', 'snow', 'x-ray']\n"
     ]
    }
   ],
   "source": [
    "def sort_by_last_letter(l):\n",
    "    lastLet = []\n",
    "    for i in l:\n",
    "        lastLet.append((i[-1], i[:-1]))\n",
    "    \n",
    "    alph = sorted(lastLet)\n",
    "    \n",
    "    sortedL = []\n",
    "    \n",
    "    for i in range(len(alph)):\n",
    "        a, b = alph[i]\n",
    "        sortedL.append(b+a)\n",
    "        \n",
    "    return sortedL\n",
    "\n",
    "\n",
    "\n",
    "print(sort_by_last_letter(['k', 'w', 'two', 'snow', 'x-ray']))"
   ]
  },
  {
   "cell_type": "markdown",
   "metadata": {},
   "source": [
    " "
   ]
  },
  {
   "cell_type": "markdown",
   "metadata": {},
   "source": [
    "**Quick check** Give an example of when you might use each sequence type:\n",
    "\n",
    "- tuple\n",
    "\n",
    "- list\n",
    "\n",
    "- string"
   ]
  },
  {
   "cell_type": "markdown",
   "metadata": {},
   "source": [
    "Might use a tuple to return more than one variable from a function  \n",
    "Might use a list so you can easily change characters  \n",
    "Might use a string to hold a anmae that doesn't need to change"
   ]
  },
  {
   "cell_type": "markdown",
   "metadata": {},
   "source": [
    " "
   ]
  },
  {
   "cell_type": "markdown",
   "metadata": {
    "is_question": true,
    "problem": "Exercise 12.3"
   },
   "source": [
    "### Exercise 12.1 \n",
    "\n",
    "Write a function called `most_frequent` that takes a string and prints the letters in decreasing order of frequency. Find text samples from several different languages and see how letter frequency varies between languages. Compare your results with the tables at http://en.wikipedia.org/wiki/Letter_frequencies. \n",
    "\n",
    "Allen's solution (try it on your own first): http://greenteapress.com/thinkpython2/code/most_frequent.py. "
   ]
  },
  {
   "cell_type": "code",
   "execution_count": 6,
   "metadata": {
    "collapsed": false,
    "solution": "Exercise 12.3"
   },
   "outputs": [
    {
     "name": "stdout",
     "output_type": "stream",
     "text": [
      "['t', 'b', 'n', 'a', 's', 'r', 'o', 'u']\n"
     ]
    }
   ],
   "source": [
    "def newHist(s):\n",
    "    d = dict()\n",
    "    for c in s:\n",
    "        d[c] = d.get(c, 0)+1\n",
    "        \n",
    "    return d\n",
    "\n",
    "def reverse_lookup(d, v):\n",
    "    for k in d:\n",
    "        if d[k] == v:\n",
    "            return k\n",
    "    raise ValueError\n",
    "\n",
    "def most_frequent(s):\n",
    "    d = newHist(s)\n",
    "    v = d.values()\n",
    "    \n",
    "    sortV = sorted(v)\n",
    "    \n",
    "    finalK = []\n",
    "    \n",
    "    for val in sortV:\n",
    "        k = reverse_lookup(d, val)\n",
    "        finalK.append(k)\n",
    "        del d[k]\n",
    "        \n",
    "    return finalK\n",
    "    \n",
    "print(most_frequent('brontosaurus'))"
   ]
  },
  {
   "cell_type": "markdown",
   "metadata": {},
   "source": [
    " "
   ]
  },
  {
   "cell_type": "markdown",
   "metadata": {
    "is_question": true,
    "problem": "Exercise 12.6"
   },
   "source": [
    "### Challenge: Exercise 12.4   (optional)\n",
    "\n",
    "From a [Car Talk Puzzler](http://www.cartalk.com/content/puzzlers):\n",
    "\n",
    "What is the longest English word, that remains a valid English word, as you remove its letters one at a time?\n",
    "\n",
    "Now, letters can be removed from either end, or the middle, but you can’t rearrange any of the letters. Every time you drop a letter, you wind up with another English word. If you do that, you’re eventually going to wind up with one letter and that too is going to be an English word—one that’s found in the dictionary. I want to know what’s the longest word and how many letters does it have?\n",
    "\n",
    "I’m going to give you a little modest example: Sprite. Ok? You start off with sprite, you take a letter off, one from the interior of the word, take the r away, and we’re left with the word spite, then we take the e off the end, we’re left with spit, we take the s off, we’re left with pit, it, and I. \n",
    "\n",
    "Write a program to find all words that can be reduced in this way, and then find the longest one.\n",
    "\n",
    "This exercise is a little more challenging than most, so here are some suggestions:\n",
    "\n",
    "- You might want to write a function that takes a word and computes a list of all the words that can be formed by removing one letter. These are the “children” of the word.\n",
    "- Recursively, a word is reducible if any of its children are reducible. As a base case, you can consider the empty string reducible.\n",
    "- The word list from [Chapter 9.1](http://www.greenteapress.com/thinkpython2/html/thinkpython2010.html) Exercise 1 doesn’t contain single letter words. So you might want to add “I”, “a”, and the empty string.\n",
    "- To improve the performance of your program, you might want to memoize the words that are known to be reducible.\n",
    "\n",
    "Allen's solution: http://greenteapress.com/thinkpython2/code/reducible.py."
   ]
  },
  {
   "cell_type": "code",
   "execution_count": null,
   "metadata": {
    "collapsed": true,
    "solution": "Exercise 12.6"
   },
   "outputs": [],
   "source": []
  },
  {
   "cell_type": "markdown",
   "metadata": {},
   "source": [
    " "
   ]
  },
  {
   "cell_type": "markdown",
   "metadata": {
    "is_question": true,
    "problem": "Feedback"
   },
   "source": [
    "## Reading Journal feedback\n",
    "\n",
    "[Please complete this short survey](https://docs.google.com/forms/d/e/1FAIpQLScQekhUrf6YYjpfQiAAbavLIA-IJklv_PX1BWbGgxj7JPolmw/viewform?c=0&w=1)\n",
    "\n",
    "If you have any comments on this Reading Journal, feel free to leave them in the survey linked above. This could include suggestions to improve the exercises, topics you'd like to see covered in class next time, or other feedback.\n",
    "\n",
    "If you have Python questions or run into problems while completing the reading, you should post them to Piazza instead so you can get a quick response before your journal is submitted."
   ]
  },
  {
   "cell_type": "markdown",
   "metadata": {},
   "source": [
    "This seemed too long for a reading journal. I think it is hard to have a reading journal and a project for the same weekend, eve if we did have a week for each. I have other homework due everyday of the week so i didn't really have time to work on it until the weekend so, as you can imagine, this is a lot of work to have due by noon on Monday for me. "
   ]
  },
  {
   "cell_type": "markdown",
   "metadata": {
    "feedback_response": true,
    "solution": "Feedback"
   },
   "source": [
    " "
   ]
  }
 ],
 "metadata": {
  "kernelspec": {
   "display_name": "Python 3",
   "language": "python",
   "name": "python3"
  },
  "language_info": {
   "codemirror_mode": {
    "name": "ipython",
    "version": 3
   },
   "file_extension": ".py",
   "mimetype": "text/x-python",
   "name": "python",
   "nbconvert_exporter": "python",
   "pygments_lexer": "ipython3",
   "version": "3.4.3"
  }
 },
 "nbformat": 4,
 "nbformat_minor": 0
}
