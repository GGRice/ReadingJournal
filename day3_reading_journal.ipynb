{
 "cells": [
  {
   "cell_type": "markdown",
   "metadata": {},
   "source": [
    "# Day 3 Reading Journal\n",
    "\n",
    "This journal includes several required exercises, but it is meant to encourage active reading more generally.  You should use the journal to take detailed notes, catalog questions, and explore the content from Think Python deeply.\n",
    "\n",
    "Reading: Think Python Chapter 8, 10.1-10.6\n",
    "\n",
    "**Due: Thursday, January 26 at noon**\n",
    "\n"
   ]
  },
  {
   "cell_type": "markdown",
   "metadata": {},
   "source": [
    "## [Chapter 8](http://www.greenteapress.com/thinkpython2/html/thinkpython2009.html)\n",
    "\n",
    "Note: the exercise numbers below match up with the reading for ease of cross referencing."
   ]
  },
  {
   "cell_type": "markdown",
   "metadata": {},
   "source": [
    "### Notes\n",
    "String is a sequence  \n",
    "sequence - ordered collection of other values  \n",
    "string is sequence of characters  \n",
    "index, tells which character you want [1] would look at first char  \n",
    "first index is 0, Yay!  \n",
    "index must be integer  \n",
    "len(str) will retrun length of the string  \n",
    "[len-1] for last char  \n",
    "can use negative numbers to count indecies packwords, [-1] last char  \n",
    "traversal, processing string on char at a time start at beginning, do something with it, continue to end  \n",
    "segment of string is called 'slice'  \n",
    "word[0:5] returns slice of word  \n",
    "if omit first [:3] starts at first char  \n",
    "if omit last [3:] ends at last char  \n",
    "if first index is >= last returns empty string  \n",
    "immutable, can't change existing string   \n",
    "search, traverse sequnce to fins something  \n",
    "counter initialize out of loop, add 1 in loop, to count  \n",
    "word.upper() capitolizes whole word  \n",
    "invocation method thing.method() <- empty paren  \n",
    "word.find(substring or char to find)  \n",
    "optional argument word.find(str, index to start, index to end)  \n",
    "last two inputs are optional  \n",
    "'in' a in banana = True  \n",
    "word == other word works\n",
    "word > word, alphabetical roder, caps first  \n"
   ]
  },
  {
   "cell_type": "markdown",
   "metadata": {},
   "source": [
    "### Chapter 8.3  \n",
    "\n",
    "Write a function that takes a string as an argument and displays the letters backward, one per line."
   ]
  },
  {
   "cell_type": "code",
   "execution_count": 4,
   "metadata": {
    "collapsed": false
   },
   "outputs": [
    {
     "name": "stdout",
     "output_type": "stream",
     "text": [
      "t\n",
      "o\n",
      "o\n",
      "t\n"
     ]
    }
   ],
   "source": [
    "def backword(word):\n",
    "    \"\"\"\n",
    "    Return given 'word' backwords, one character per line\n",
    "    \n",
    "    >>> backword(\"happy\")\n",
    "    'y\n",
    "    p\n",
    "    p\n",
    "    a\n",
    "    h'\n",
    "    \"\"\"\n",
    "    i = len(word)-1\n",
    "    while i >= 0:\n",
    "        char = word[i]\n",
    "        print(char)\n",
    "        i -= 1\n",
    "\n",
    "backword('toot')"
   ]
  },
  {
   "cell_type": "markdown",
   "metadata": {},
   "source": [
    "**Challenge (optional):** Write a function that translates words into [Pig Latin](https://en.wikipedia.org/wiki/Pig_Latin). \n",
    "\n",
    "**Challenge to the challenge**: Write a function that translates back into English."
   ]
  },
  {
   "cell_type": "code",
   "execution_count": 19,
   "metadata": {
    "collapsed": false
   },
   "outputs": [
    {
     "name": "stdout",
     "output_type": "stream",
     "text": [
      "oftwaresay\n",
      "software\n"
     ]
    }
   ],
   "source": [
    "def pig_latin(word):\n",
    "    \"\"\"\n",
    "    Return given 'word' translated into Pig Latin\n",
    "    \n",
    "    >>> pig_latin(\"software\")\n",
    "    'oftwaresay'\n",
    "    \"\"\"\n",
    "    pig = word[1:] + word[0] + 'ay'\n",
    "    \n",
    "    return pig\n",
    "\n",
    "print(pig_latin('software'))\n",
    "\n",
    "def latin_pig(word):\n",
    "    \"\"\"\n",
    "    Return given 'word' translated from Pig Latin\n",
    "    \n",
    "    >>> latin_pig(\"oftwaresay\")\n",
    "    'software'\n",
    "    \"\"\"\n",
    "   \n",
    "    pig = word[-3] + word[:-3]\n",
    "    \n",
    "    return pig\n",
    "\n",
    "print(latin_pig('oftwaresay'))\n",
    "\n",
    "# If you'd like to actually run the doctests here, you can uncomment the lines below.\n",
    "# We use this slightly more complex method to test only the pig_latin function, without running tests on any other functions that may be in this notebook.\n",
    "#import doctest\n",
    "#doctest.run_docstring_examples(pig_latin, globals())"
   ]
  },
  {
   "cell_type": "markdown",
   "metadata": {},
   "source": [
    "### Chapter 8.7\n",
    "Encapsulate the character counting code in a fruitful function named `count` that accepts the string and the letter as arguments and returns the count."
   ]
  },
  {
   "cell_type": "code",
   "execution_count": 5,
   "metadata": {
    "collapsed": false
   },
   "outputs": [
    {
     "name": "stdout",
     "output_type": "stream",
     "text": [
      "3\n"
     ]
    }
   ],
   "source": [
    "def count(word, letter):\n",
    "    \"\"\"\n",
    "    Return number of certain letter in word\n",
    "    \n",
    "    >>> pig_latin(\"banana\")\n",
    "    3\n",
    "    \"\"\"\n",
    "    count = 0\n",
    "    for letter in word:\n",
    "        if letter == 'a':\n",
    "            count = count + 1\n",
    "    print(count)\n",
    "    \n",
    "count('banana', 'a')"
   ]
  },
  {
   "cell_type": "markdown",
   "metadata": {},
   "source": [
    "### Exercise 8.1\n",
    "Skim the documentation of the Python [string methods](http://docs.python.org/2/library/stdtypes.html#string-methods). Play with them to make sure you understand how they work-- strip, replace, and upper/lower are particularly useful. Show us some of your experiments."
   ]
  },
  {
   "cell_type": "code",
   "execution_count": 34,
   "metadata": {
    "collapsed": false
   },
   "outputs": [
    {
     "name": "stdout",
     "output_type": "stream",
     "text": [
      "Apple\n",
      "       apple        \n",
      "True\n",
      "pappleiapplee\n",
      "i LOVE PINEAPPLE\n",
      "I Love Pineapple\n",
      "000000000000000000000000000000000000000000000000000000000000000000000000000000000000I love pineapple\n",
      "allle\n",
      "I love pineapple\n",
      "pple\n"
     ]
    }
   ],
   "source": [
    "word = 'apple'\n",
    "print(word.capitalize())\n",
    "print(word.center(20, ' '))\n",
    "print(word.islower())\n",
    "print(word.join('pie'))\n",
    "word2 = 'I love pineapple'\n",
    "print(word2.swapcase())\n",
    "print(word2.title())\n",
    "print(word2.zfill(100))\n",
    "print(word.replace('p','l'))\n",
    "print(word2.strip())\n",
    "print(word.strip('a'))"
   ]
  },
  {
   "cell_type": "markdown",
   "metadata": {},
   "source": [
    "### Exercise 8.4  \n",
    "\n",
    "The following functions are all intended to check whether a string contains any lowercase letters, but at least some of them are wrong. For each function, describe what the function actually does (assuming that the parameter is a string)."
   ]
  },
  {
   "cell_type": "code",
   "execution_count": 44,
   "metadata": {
    "collapsed": false
   },
   "outputs": [
    {
     "name": "stdout",
     "output_type": "stream",
     "text": [
      "True\n",
      "False\n",
      "False\n",
      "True\n",
      "True\n",
      "False\n",
      "True\n",
      "False\n"
     ]
    }
   ],
   "source": [
    "def any_lowercase1(s):\n",
    "    for c in s:\n",
    "        if c.islower():\n",
    "            return True\n",
    "        else:\n",
    "            return False\n",
    "        \n",
    "print(any_lowercase1('apple'))\n",
    "print(any_lowercase1('APPLE'))\n",
    "print(any_lowercase1('APpLE'))\n",
    "print(any_lowercase1('aPple'))\n",
    "print(any_lowercase1('aPPle'))\n",
    "print(any_lowercase1('APPle'))\n",
    "print(any_lowercase1('aPPLE'))\n",
    "print(any_lowercase1('Apple'))"
   ]
  },
  {
   "cell_type": "markdown",
   "metadata": {},
   "source": [
    "This function returns True if the first character is lowercase and False if the first character is uppercase. The for loop will end the first time through because wether the first letter is uppercase or not, there are return statments in both if statements."
   ]
  },
  {
   "cell_type": "markdown",
   "metadata": {},
   "source": [
    " "
   ]
  },
  {
   "cell_type": "code",
   "execution_count": 50,
   "metadata": {
    "collapsed": false
   },
   "outputs": [
    {
     "name": "stdout",
     "output_type": "stream",
     "text": [
      "True\n",
      "True\n",
      "True\n"
     ]
    }
   ],
   "source": [
    "def any_lowercase2(s):\n",
    "    for c in s:\n",
    "        if 'c'.islower():\n",
    "            return 'True'\n",
    "        else:\n",
    "            return 'False'\n",
    "\n",
    "print(any_lowercase2('crab'))\n",
    "print(any_lowercase2('Crab'))\n",
    "print('c'.islower())"
   ]
  },
  {
   "cell_type": "markdown",
   "metadata": {},
   "source": [
    "This code is just telling us if the character 'c' is lowercase. It will always be true because it is hard coded in. the mistake made was putting c into '' when trying to call the islower() method"
   ]
  },
  {
   "cell_type": "markdown",
   "metadata": {},
   "source": [
    " "
   ]
  },
  {
   "cell_type": "code",
   "execution_count": 11,
   "metadata": {
    "collapsed": false
   },
   "outputs": [
    {
     "name": "stdout",
     "output_type": "stream",
     "text": [
      "True\n",
      "False\n",
      "True\n",
      "True\n",
      "True\n",
      "True\n",
      "True\n",
      "False\n",
      "False\n",
      "False\n",
      "True\n"
     ]
    }
   ],
   "source": [
    "def any_lowercase3(s):\n",
    "    for c in s:\n",
    "        flag = c.islower()\n",
    "    return flag\n",
    "\n",
    "print(any_lowercase3('apple'))\n",
    "print(any_lowercase3('APPLE'))\n",
    "print(any_lowercase3('apPle'))\n",
    "print(any_lowercase3('Apple'))\n",
    "print(any_lowercase3('aPple'))\n",
    "print(any_lowercase3('apPle'))\n",
    "print(any_lowercase3('appLe'))\n",
    "print(any_lowercase3('applE'))\n",
    "print(any_lowercase3('APPLE'))\n",
    "print(any_lowercase3('APpLE'))\n",
    "print(any_lowercase3('APPLe'))\n"
   ]
  },
  {
   "cell_type": "markdown",
   "metadata": {},
   "source": [
    "This loop does the right thing, it goes through every character in the word. However, it reassigns the value of flag everytime. This means that the result only depends on the last character. If it is lowercase then flag will be True so that will be returned. However, if the last letter is uppercase then flag will be false so that will be returned."
   ]
  },
  {
   "cell_type": "markdown",
   "metadata": {},
   "source": [
    " "
   ]
  },
  {
   "cell_type": "code",
   "execution_count": 16,
   "metadata": {
    "collapsed": false
   },
   "outputs": [
    {
     "name": "stdout",
     "output_type": "stream",
     "text": [
      "True\n",
      "False\n",
      "True\n",
      "False\n",
      "True\n"
     ]
    }
   ],
   "source": [
    "def any_lowercase4(s):\n",
    "    flag = False\n",
    "    for c in s:\n",
    "        flag = flag or c.islower()\n",
    "    return flag\n",
    "\n",
    "print(any_lowercase3('apple'))\n",
    "print(any_lowercase3('APPLE'))\n",
    "print(any_lowercase3('APPLe'))\n",
    "print(any_lowercase3('applE'))\n",
    "print(any_lowercase3('apPle'))"
   ]
  },
  {
   "cell_type": "markdown",
   "metadata": {},
   "source": [
    "This should technically work. Flag will be True if c is True or False. However if Flag is False or False when there is a lowercase it will remain false. It should work, except that when the last letter is capitolized then the statement will read flag = True or False so flag will equal True again even though we want it to stay False. "
   ]
  },
  {
   "cell_type": "markdown",
   "metadata": {},
   "source": [
    " "
   ]
  },
  {
   "cell_type": "code",
   "execution_count": 21,
   "metadata": {
    "collapsed": false
   },
   "outputs": [
    {
     "name": "stdout",
     "output_type": "stream",
     "text": [
      "True\n",
      "False\n",
      "True\n",
      "True\n",
      "True\n",
      "True\n",
      "True\n",
      "False\n",
      "False\n",
      "False\n",
      "True\n"
     ]
    }
   ],
   "source": [
    "def any_lowercase5(s):\n",
    "    for c in s:\n",
    "        if not c.islower():\n",
    "            return False\n",
    "    return True\n",
    "\n",
    "print(any_lowercase3('apple')) \n",
    "print(any_lowercase3('APPLE')) #should be the only one that is false \n",
    "print(any_lowercase3('apPle'))\n",
    "print(any_lowercase3('Apple'))\n",
    "print(any_lowercase3('aPple'))\n",
    "print(any_lowercase3('apPle'))\n",
    "print(any_lowercase3('appLe'))\n",
    "print(any_lowercase3('applE'))\n",
    "print(any_lowercase3('APpLE'))\n",
    "print(any_lowercase3('APPLe'))"
   ]
  },
  {
   "cell_type": "markdown",
   "metadata": {},
   "source": [
    "I'm not really sure what's up here. It seems like this function should return True only if all the characters are lowercase, however that is clearly not wht is happening. "
   ]
  },
  {
   "cell_type": "markdown",
   "metadata": {},
   "source": [
    " "
   ]
  },
  {
   "cell_type": "markdown",
   "metadata": {},
   "source": [
    "## [Chapter 10.1 - 10.6](http://www.greenteapress.com/thinkpython2/html/thinkpython2011.html)\n",
    "\n",
    "You may want to review [state diagrams in Chapter 2](http://www.greenteapress.com/thinkpython2/html/thinkpython2003.html#toc13).\n",
    "\n"
   ]
  },
  {
   "cell_type": "markdown",
   "metadata": {},
   "source": [
    "### Notes:\n",
    "list is a sequence of values  \n",
    "list can be sequence of any type  \n",
    "values in list called elements or items  \n",
    "[ this, is, a, list]  \n",
    "list in a list is nested  \n",
    "list with no elements is an empty list  \n",
    "list[index] will retrieve element at that index  \n",
    "lists are mutable, aka num[1, 2] -> num[1]=3 -> num = [1, 3]  \n",
    "indices start at 0  \n",
    "if try to read/write element that doesn't exist \"IndexError\"  \n",
    "if index has negative values count back from end  \n",
    "element in list -> True or False  \n",
    "use for loop to travers the list  \n",
    "for element in list  \n",
    "for i in range (len(list))  \n",
    "+ concatenates lists  \n",
    "a=[1, 2, 3] b=[4, 5, 6] a+b=[1, 2, 3, 4, 5, 6]  \n",
    "* repeats list n number of times  \n",
    "a * 2= [1, 2, 3, 1, 2, 3]  \n",
    "slice operator  a[1:2] = [2, 3]  \n",
    "ommit first or last term to print from start or end (in slice)  \n",
    "good to make copies of your list before changing them  \n",
    "list. append() adds new element at end of list  \n",
    "list.extend(list1) appends list1 to list  \n",
    "list.sort() arranges elements from highest to lowest \n",
    "most list methods are void, modify list and return None  "
   ]
  },
  {
   "cell_type": "markdown",
   "metadata": {},
   "source": [
    "**Quick check:** What type of items can be placed in a list?"
   ]
  },
  {
   "cell_type": "markdown",
   "metadata": {},
   "source": [
    "any types (ex, strings, integers, floats, booleans, etc.)"
   ]
  },
  {
   "cell_type": "markdown",
   "metadata": {},
   "source": [
    "**Quick check:** Give at least one similarity and one difference between lists and strings."
   ]
  },
  {
   "cell_type": "markdown",
   "metadata": {},
   "source": [
    "lists and strings are both lists of values, they both share a lot of methods. lists can hold any type, strings can old hold characters  "
   ]
  },
  {
   "cell_type": "markdown",
   "metadata": {},
   "source": [
    "### Exercise\n",
    "\n",
    "Write a Python function named `average` that takes a list of numbers and returns their arithmetic mean."
   ]
  },
  {
   "cell_type": "code",
   "execution_count": 2,
   "metadata": {
    "collapsed": false
   },
   "outputs": [
    {
     "name": "stdout",
     "output_type": "stream",
     "text": [
      "3.0\n"
     ]
    }
   ],
   "source": [
    "def function(numbers):\n",
    "    \"\"\"\n",
    "    Returns aritmetic mean, given list of numbers\n",
    "    \n",
    "    >>> pig_latin([[1, 2, 3, 4, 5]])\n",
    "    3\n",
    "    \"\"\"\n",
    "    sum = 0\n",
    "    for n in numbers:\n",
    "        sum= sum+n\n",
    "    \n",
    "    mean=sum/len(numbers)\n",
    "    \n",
    "    return mean\n",
    "    \n",
    "print(function([1, 2, 3, 4, 5]))"
   ]
  },
  {
   "cell_type": "markdown",
   "metadata": {},
   "source": [
    "### Exercise\n",
    "You own a restaurant, and you need to keep up with the latest food fads or risk losing your fickle customers. You decide to write a Python function that adds the hot new ingredient _du jour_ to each of your regular menu items and returns the trendy new menu."
   ]
  },
  {
   "cell_type": "code",
   "execution_count": 9,
   "metadata": {
    "collapsed": false
   },
   "outputs": [
    {
     "name": "stdout",
     "output_type": "stream",
     "text": [
      "['burger with kale', 'salad with kale', 'ice cream with kale']\n"
     ]
    }
   ],
   "source": [
    "def add_ingredient(menu, ingredient):\n",
    "    \"\"\"\n",
    "    Given a list of string 'menu' items and a trendy 'ingredient' string of the day,\n",
    "    return a new menu list of strings with the ingredient added to each.\n",
    "    \n",
    "    >>> add_ingredient([\"burger\", \"salad\", \"ice cream\"], \"kale\")\n",
    "    ['burger with kale', 'salad with kale', 'ice cream with kale']\n",
    "    \n",
    "    \"\"\"\n",
    "    \n",
    "    for f in range(len(menu)):\n",
    "        menu[f] = menu[f] + ' with ' + ingredient\n",
    "\n",
    "        \n",
    "    return menu\n",
    "\n",
    "print(add_ingredient([\"burger\", \"salad\", \"ice cream\"], \"kale\"))\n",
    "\n",
    "\n",
    "# Running doctests in jupyter notebook:\n",
    "# If you'd like to actually run the doctests here, you can uncomment the lines below.\n",
    "# We use this slightly more complex method to test only the add_ingredient function,\n",
    "# without running tests on any other functions that may be in this notebook.\n",
    "\n",
    "#import doctest\n",
    "#doctest.run_docstring_examples(add_ingredient, globals(), verbose=True)"
   ]
  },
  {
   "cell_type": "markdown",
   "metadata": {},
   "source": [
    "## Quick poll\n",
    "About how long did you spend working on this reading journal?"
   ]
  },
  {
   "cell_type": "markdown",
   "metadata": {},
   "source": [
    "1 or 1.5 (not sure, it was in a lot of sittings)"
   ]
  },
  {
   "cell_type": "markdown",
   "metadata": {},
   "source": [
    "## Reading Journal feedback\n",
    "\n",
    "Have any comments on this Reading Journal? Feel free to leave them below and we'll read them when you submit your journal entry. This could include suggestions to improve the exercises, topics you'd like to see covered in class next time, or other feedback.\n",
    "\n",
    "If you have Python questions or run into problems while completing the reading, you should post them to Piazza instead so you can get a quick response before your journal is submitted."
   ]
  },
  {
   "cell_type": "markdown",
   "metadata": {},
   "source": [
    "Some of the code from 8.4 didn't seem to work quite properly for me"
   ]
  },
  {
   "cell_type": "markdown",
   "metadata": {},
   "source": [
    " "
   ]
  }
 ],
 "metadata": {
  "kernelspec": {
   "display_name": "Python 3",
   "language": "python",
   "name": "python3"
  },
  "language_info": {
   "codemirror_mode": {
    "name": "ipython",
    "version": 3
   },
   "file_extension": ".py",
   "mimetype": "text/x-python",
   "name": "python",
   "nbconvert_exporter": "python",
   "pygments_lexer": "ipython3",
   "version": "3.4.3"
  }
 },
 "nbformat": 4,
 "nbformat_minor": 0
}
