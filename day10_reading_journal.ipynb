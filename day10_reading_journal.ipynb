{
 "cells": [
  {
   "cell_type": "markdown",
   "metadata": {},
   "source": [
    "# Day 10 Reading Journal\n",
    "\n",
    "This journal includes several required exercises, but it is meant to encourage active reading more generally.  You should use the journal to take detailed notes, catalog questions, and explore the content from Think Python deeply.\n",
    "\n",
    "Reading: Review Think Python Chapters 15-17\n",
    "\n",
    "**Due: Thursday, February 23 at 12 noon**\n",
    "\n"
   ]
  },
  {
   "cell_type": "markdown",
   "metadata": {},
   "source": [
    "## [Chapter 15](http://www.greenteapress.com/thinkpython2/html/thinkpython2016.html), [Chapter 16](http://www.greenteapress.com/thinkpython2/html/thinkpython2017.html), [Chapter 17](http://www.greenteapress.com/thinkpython2/html/thinkpython2018.html)\n",
    "\n",
    "\n",
    "By the end of chapter 17, we have all the tools we need to create our own user-defined types known as classes. In this reading journal, we're asking you to review and solidify your understanding of this material so we can build on it for the rest of the course. \n",
    "\n",
    "If you didn't get a chance to fully complete the Day 9 reading journal, you may want to do so now."
   ]
  },
  {
   "cell_type": "markdown",
   "metadata": {
    "problem": "Terminology"
   },
   "source": [
    "### Terminology\n",
    "\n",
    "You should be familiar with the following list of terms and concepts. If any of them are unclear to you, re-read, ask, write a definition in your own words, and try an example if appropriate.\n",
    "\n",
    " - class\n",
    " - object\n",
    " - instance\n",
    " - attribute\n",
    " - method\n",
    " - shallow vs deep copying\n",
    " - pure functions vs modifiers\n",
    " - initializing object instances\n",
    " "
   ]
  },
  {
   "cell_type": "markdown",
   "metadata": {
    "is_question": true,
    "problem": "Exercise 1"
   },
   "source": [
    "### Exercise\n",
    "\n",
    "We're going to take the first steps toward writing a calendar application. To keep things simple, we'll restrict ourselves to a single day for now. Write an `Event` class with the following attributes:\n",
    "\n",
    " - `name`  : Title for the `Event`\n",
    " - `start` : `Time` object representing the start time for the `Event`\n",
    " - `end`   : `Time` object representing the end time for the `Event`\n",
    "\n",
    "You can also augment your `Event` class with additional attributes, such as location and attendees.\n",
    "\n",
    "Write `__init__` and `__str__` methods for your `Event` class."
   ]
  },
  {
   "cell_type": "code",
   "execution_count": 1,
   "metadata": {
    "collapsed": false,
    "solution": "Exercise 1"
   },
   "outputs": [
    {
     "name": "stdout",
     "output_type": "stream",
     "text": [
      "Today you have SoftDes at AC 326 which starts at 01:30:00 and ends at 03:10:00\n"
     ]
    }
   ],
   "source": [
    "class Time:\n",
    "    \"\"\"Represents the time of day.\n",
    "       \n",
    "    attributes: hour, minute, second\n",
    "    \"\"\"\n",
    "    def __init__(self, hour, minute, second):\n",
    "        self.hour = hour\n",
    "        self.minute = minute\n",
    "        self.second = second\n",
    "    \n",
    "    def __str__(self):\n",
    "        return '%.2d:%.2d:%.2d' % (self.hour, self.minute, self.second)\n",
    "\n",
    "class Event:\n",
    "    \"\"\"\n",
    "        Attributes: name\n",
    "                    start\n",
    "                    end\n",
    "                    location\n",
    "    \"\"\"\n",
    "    def __init__(self, name, start, end, location):\n",
    "        self.name = name\n",
    "        self.start = start\n",
    "        self.end = end\n",
    "        self.location = location\n",
    "    \n",
    "    def __str__(self):\n",
    "        return 'Today you have ' + self.name + ' at ' + self.location + ' which starts at ' + str(self.start) + ' and ends at ' + str(self.end) \n",
    "    \n",
    "\n",
    "if __name__ == '__main__':\n",
    "    start = Time(1, 30, 0)\n",
    "    end = Time(3, 10, 0)\n",
    "    event = Event('SoftDes', start, end, 'AC 326')\n",
    "    \n",
    "    print(event)"
   ]
  },
  {
   "cell_type": "markdown",
   "metadata": {
    "is_question": true,
    "problem": "Exercise 2"
   },
   "source": [
    "### Exercise\n",
    "\n",
    "Write a `duration` method that returns the duration of the `Event` in minutes."
   ]
  },
  {
   "cell_type": "code",
   "execution_count": 6,
   "metadata": {
    "collapsed": false,
    "solution": "Exercise 2"
   },
   "outputs": [
    {
     "name": "stdout",
     "output_type": "stream",
     "text": [
      "01:40:00\n"
     ]
    }
   ],
   "source": [
    "class Time:\n",
    "    \"\"\"Represents the time of day.\n",
    "       \n",
    "    attributes: hour, minute, second\n",
    "    \"\"\"\n",
    "    def __init__(self, hour, minute, second):\n",
    "        self.hour = hour\n",
    "        self.minute = minute\n",
    "        self.second = second\n",
    "    \n",
    "    def __str__(self):\n",
    "        return '%.2d:%.2d:%.2d' % (self.hour, self.minute, self.second)\n",
    "    \n",
    "    def time_to_int(self):\n",
    "        minutes = self.hour * 60 + self.minute\n",
    "        seconds = minutes * 60 + self.second\n",
    "        return seconds\n",
    "    \n",
    "def int_to_time(seconds):\n",
    "        time = Time(0, 0, 0)\n",
    "        minutes, time.second = divmod(seconds, 60)\n",
    "        time.hour, time.minute = divmod(minutes, 60)\n",
    "        return time\n",
    "\n",
    "\n",
    "\n",
    "class Event:\n",
    "    \"\"\"\n",
    "        Attributes: name\n",
    "                    start\n",
    "                    end\n",
    "                    location\n",
    "    \"\"\"\n",
    "    def __init__(self, name, start, end, location):\n",
    "        self.name = name\n",
    "        self.start = start\n",
    "        self.end = end\n",
    "        self.location = location\n",
    "    \n",
    "    def __str__(self):\n",
    "        return 'Today you have ' + self.name + ' at ' + self.location + ' which starts at ' + str(self.start) + ' and ends at ' + str(self.end)\n",
    "    \n",
    "    def duration(self):\n",
    "        seconds = self.end.time_to_int() - self.start.time_to_int()\n",
    "        return int_to_time(seconds)\n",
    "    \n",
    "\n",
    "if __name__ == '__main__':\n",
    "    start = Time(1, 30, 0)\n",
    "    end = Time(3, 10, 0)\n",
    "    event = Event('SoftDes', start, end, 'AC 326')\n",
    "    dur = event.duration()\n",
    "    \n",
    "    print(dur)"
   ]
  },
  {
   "cell_type": "markdown",
   "metadata": {
    "is_question": true,
    "problem": "Exercise 3"
   },
   "source": [
    "### Exercise\n",
    "\n",
    "Write an `Agenda` class that contains several `Event`s for the day.\n",
    "\n",
    "**Quick check: ** How should you store `Event`s within your `Agenda` class?\n"
   ]
  },
  {
   "cell_type": "markdown",
   "metadata": {},
   "source": [
    "I can store my events in a list!"
   ]
  },
  {
   "cell_type": "markdown",
   "metadata": {},
   "source": [
    " "
   ]
  },
  {
   "cell_type": "markdown",
   "metadata": {},
   "source": [
    "Your `Agenda` class should include a `print_agenda` method that prints out your schedule for the day, in order.\n",
    "\n",
    "**Optional:** Include a `is_feasible` method that returns `True` if your schedule has no time conflicts. You may want to write additional helper methods for the `Event` class to make this easier."
   ]
  },
  {
   "cell_type": "code",
   "execution_count": 13,
   "metadata": {
    "collapsed": false,
    "solution": "Exercise 3"
   },
   "outputs": [
    {
     "name": "stdout",
     "output_type": "stream",
     "text": [
      "Monday has events:\n",
      "    'Today you have Lin in AC 417 which starts at 10:50:00 and ends at 12:30:00'\n",
      "    'Today you have Bayesian in AC 109 which starts at 09:00:00 and ends at 10:40:00'\n",
      "    'Today you have SoftDes in AC 326 which starts at 13:30:00 and ends at 15:10:00'\n"
     ]
    }
   ],
   "source": [
    "class Time:\n",
    "    \"\"\"Represents the time of day.\n",
    "       \n",
    "    attributes: hour, minute, second\n",
    "    \"\"\"\n",
    "    def __init__(self, hour, minute, second):\n",
    "        self.hour = hour\n",
    "        self.minute = minute\n",
    "        self.second = second\n",
    "    \n",
    "    def __str__(self):\n",
    "        return '%.2d:%.2d:%.2d' % (self.hour, self.minute, self.second)\n",
    "    \n",
    "    def time_to_int(self):\n",
    "        minutes = self.hour * 60 + self.minute\n",
    "        seconds = minutes * 60 + self.second\n",
    "        return seconds\n",
    "    \n",
    "def int_to_time(seconds):\n",
    "        time = Time(0, 0, 0)\n",
    "        minutes, time.second = divmod(seconds, 60)\n",
    "        time.hour, time.minute = divmod(minutes, 60)\n",
    "        return time\n",
    "\n",
    "\n",
    "\n",
    "class Event:\n",
    "    \"\"\"\n",
    "        Attributes: name\n",
    "                    start\n",
    "                    end\n",
    "                    location\n",
    "    \"\"\"\n",
    "    def __init__(self, name, start, end, location):\n",
    "        self.name = name\n",
    "        self.start = start\n",
    "        self.end = end\n",
    "        self.location = location\n",
    "    \n",
    "    def __str__(self):\n",
    "        return 'Today you have ' + self.name + ' in ' + self.location + ' which starts at ' + str(self.start) + ' and ends at ' + str(self.end)\n",
    "    \n",
    "    def duration(self):\n",
    "        seconds = self.end.time_to_int() - self.start.time_to_int()\n",
    "        return int_to_time(seconds)\n",
    "    \n",
    "    \n",
    "class Agenda:\n",
    "    \"\"\"\n",
    "        Attributes: name\n",
    "                    agenda_events\n",
    "    \"\"\"\n",
    "        \n",
    "    def __init__(self, name, contents=None):\n",
    "        self.name = name\n",
    "        if contents == None:\n",
    "            contents = []\n",
    "        self.agenda_events = contents\n",
    "        \n",
    "    def __str__(self):\n",
    "        t = [ self.name + ' has events:' ]\n",
    "        for obj in self.agenda_events:\n",
    "            s = '    ' + object.__str__(obj)\n",
    "            t.append(s)\n",
    "        return '\\n'.join(t)\n",
    "    \n",
    "    def add_to_agenda(self, obj):\n",
    "        self.agenda_events.append(obj)\n",
    "        \n",
    "    def print_agenda(self):\n",
    "        print(self)\n",
    "        \n",
    "    \n",
    "\n",
    "if __name__ == '__main__':\n",
    "    start = Time(13, 30, 0)\n",
    "    end = Time(15, 10, 0)\n",
    "    sd = Event('SoftDes', start, end, 'AC 326')\n",
    "    \n",
    "    start = Time(9, 0, 0)\n",
    "    end = Time(10, 40, 0)\n",
    "    b = Event('Bayesian', start, end, 'AC 109')\n",
    "    \n",
    "    start = Time(10, 50, 0)\n",
    "    end = Time(12, 30, 0)\n",
    "    lin = Event('Lin', start, end, 'AC 417')\n",
    "    \n",
    "    monday = Agenda('Monday')\n",
    "    monday.add_to_agenda(str(lin))\n",
    "    monday.add_to_agenda(str(b))\n",
    "    monday.add_to_agenda(str(sd))\n",
    "    \n",
    "    \n",
    "    print(monday)"
   ]
  },
  {
   "cell_type": "markdown",
   "metadata": {
    "is_question": true,
    "problem": "Exercise 4"
   },
   "source": [
    "### Going Beyond (optional)\n",
    "\n",
    "Some ideas for taking your application further:\n",
    " - Add people and/or places to the mix to create a scheduling assistant\n",
    " - Extend support for day-of-week or full date. A word of warning: dealing with dates and times in real applications is difficult due to the huge number of special cases (Perfect example: this reading journal is due on Leap Day). Consider using something like the Python [datetime](https://docs.python.org/3/library/datetime.html) module.\n",
    " - Use pickle or some other persistence strategy to save and load your `Agenda`."
   ]
  },
  {
   "cell_type": "code",
   "execution_count": null,
   "metadata": {
    "collapsed": true,
    "solution": "Exercise 4"
   },
   "outputs": [],
   "source": []
  },
  {
   "cell_type": "markdown",
   "metadata": {
    "poll_response": true,
    "solution": "Time spent"
   },
   "source": [
    " "
   ]
  },
  {
   "cell_type": "markdown",
   "metadata": {
    "is_question": true,
    "problem": "Feedback"
   },
   "source": [
    "## Reading Journal feedback\n",
    "\n",
    "[Please complete this short survey](https://docs.google.com/forms/d/e/1FAIpQLScQekhUrf6YYjpfQiAAbavLIA-IJklv_PX1BWbGgxj7JPolmw/viewform?c=0&w=1)\n",
    "\n",
    "If you have any comments on this Reading Journal, feel free to leave them in the survey linked above. This could include suggestions to improve the exercises, topics you'd like to see covered in class next time, or other feedback.\n",
    "\n",
    "If you have Python questions or run into problems while completing the reading, you should post them to Piazza instead so you can get a quick response before your journal is submitted."
   ]
  },
  {
   "cell_type": "markdown",
   "metadata": {
    "feedback_response": true,
    "solution": "Feedback"
   },
   "source": [
    " "
   ]
  }
 ],
 "metadata": {
  "kernelspec": {
   "display_name": "Python 3",
   "language": "python",
   "name": "python3"
  },
  "language_info": {
   "codemirror_mode": {
    "name": "ipython",
    "version": 3
   },
   "file_extension": ".py",
   "mimetype": "text/x-python",
   "name": "python",
   "nbconvert_exporter": "python",
   "pygments_lexer": "ipython3",
   "version": "3.4.3"
  }
 },
 "nbformat": 4,
 "nbformat_minor": 0
}
