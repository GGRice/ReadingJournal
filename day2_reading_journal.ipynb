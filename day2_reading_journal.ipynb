{
 "cells": [
  {
   "cell_type": "markdown",
   "metadata": {},
   "source": [
    "# Day 2 Reading Journal\n",
    "\n",
    "This journal includes several required exercises, but it is meant to encourage active reading more generally.  You should use the journal to take detailed notes, catalog questions, and explore the content from Think Python deeply.\n",
    "\n",
    "Reading: Think Python Chapter 6.1-6.4, 7\n",
    "\n",
    "**Due: Tuesday, January 24 at 12 noon**\n",
    "\n"
   ]
  },
  {
   "cell_type": "markdown",
   "metadata": {},
   "source": [
    "## [Chapter 6.1-6.4](http://greenteapress.com/thinkpython2/html/thinkpython2007.html)\n",
    "\n",
    "Note: the exercise numbers below match up with the reading for ease of cross referencing."
   ]
  },
  {
   "cell_type": "markdown",
   "metadata": {},
   "source": [
    "### Notes:  \n",
    "Void function have no return value, aka return value is 'None'  \n",
    "return ____  \n",
    "temporary variable, make a new variable that will be returned, could just return the statemnt, the answer to the statement  \n",
    "sometimes multiple returns in different branches of conditionals  \n",
    "when return runs, function terminates  \n",
    "code after a teturn = dead code  \n",
    "make sure every situation is covered with a return, just in case  \n",
    "incremental development, help avoid a ton of debugging, add&test small amounts of code at a time  \n",
    "scaffolding, helps build the program, not part of final product\n",
    "can call function from in a function  \n",
    "functionc can return booleans  \n",
    "tip: functions that return boolean, yes or no questions  \n"
   ]
  },
  {
   "cell_type": "markdown",
   "metadata": {},
   "source": [
    "**Quick check:** What is a _fruitful function_?\n",
    "A function that has a return, it's return is not void  "
   ]
  },
  {
   "cell_type": "markdown",
   "metadata": {},
   "source": [
    " "
   ]
  },
  {
   "cell_type": "markdown",
   "metadata": {},
   "source": [
    "### Chapter 6.1 \n",
    "Write a `compare` function that returns `1` if `x > y`, `0` if `x == y`, and `-1` if `x < y`."
   ]
  },
  {
   "cell_type": "code",
   "execution_count": 6,
   "metadata": {
    "collapsed": false
   },
   "outputs": [
    {
     "data": {
      "text/plain": [
       "0"
      ]
     },
     "execution_count": 6,
     "metadata": {},
     "output_type": "execute_result"
    }
   ],
   "source": [
    "def absVal(x, y):\n",
    "    if x > y:\n",
    "        return 1\n",
    "    elif x == y:\n",
    "        return 0\n",
    "    else:\n",
    "        return -1\n",
    "    \n",
    "absVal(0,1)"
   ]
  },
  {
   "cell_type": "markdown",
   "metadata": {},
   "source": [
    "**Quick check:** Modify the `absolute_value` function so that it returns the correct result for all integer inputs."
   ]
  },
  {
   "cell_type": "code",
   "execution_count": 7,
   "metadata": {
    "collapsed": false
   },
   "outputs": [],
   "source": [
    "def absolute_value(x):\n",
    "    if x < 0:\n",
    "        return -x\n",
    "    if x > 0:\n",
    "        return x\n",
    "    if x == 0:\n",
    "        return 0"
   ]
  },
  {
   "cell_type": "markdown",
   "metadata": {},
   "source": [
    "### Chapter 6.2 \n",
    "Use incremental development to write a function called `hypotenuse` that returns the length of the hypotenuse of a right triangle given the lengths of the two legs as arguments. Record each stage of the development process as you go, using as many cells as you need."
   ]
  },
  {
   "cell_type": "code",
   "execution_count": 9,
   "metadata": {
    "collapsed": false
   },
   "outputs": [
    {
     "data": {
      "text/plain": [
       "0"
      ]
     },
     "execution_count": 9,
     "metadata": {},
     "output_type": "execute_result"
    }
   ],
   "source": [
    "def hypotenuse(a, b):\n",
    "    return 0\n",
    "\n",
    "hypotenuse(3, 4)"
   ]
  },
  {
   "cell_type": "code",
   "execution_count": 10,
   "metadata": {
    "collapsed": false
   },
   "outputs": [
    {
     "name": "stdout",
     "output_type": "stream",
     "text": [
      "9 16\n"
     ]
    },
    {
     "data": {
      "text/plain": [
       "0"
      ]
     },
     "execution_count": 10,
     "metadata": {},
     "output_type": "execute_result"
    }
   ],
   "source": [
    "def hypotenuse(a, b):\n",
    "    s1 = a**2\n",
    "    s2 = b**2\n",
    "    print(s1, s2)\n",
    "\n",
    "    return 0\n",
    "\n",
    "hypotenuse(3,4)"
   ]
  },
  {
   "cell_type": "code",
   "execution_count": 11,
   "metadata": {
    "collapsed": false
   },
   "outputs": [
    {
     "name": "stdout",
     "output_type": "stream",
     "text": [
      "25\n"
     ]
    },
    {
     "data": {
      "text/plain": [
       "0"
      ]
     },
     "execution_count": 11,
     "metadata": {},
     "output_type": "execute_result"
    }
   ],
   "source": [
    "def hypotenuse(a, b):\n",
    "    s1 = a**2\n",
    "    s2 = b**2\n",
    "    s3 = s1 + s2\n",
    "\n",
    "    print(s3)\n",
    "\n",
    "    return 0\n",
    "\n",
    "hypotenuse(3,4)"
   ]
  },
  {
   "cell_type": "code",
   "execution_count": 12,
   "metadata": {
    "collapsed": false
   },
   "outputs": [
    {
     "name": "stdout",
     "output_type": "stream",
     "text": [
      "5.0\n"
     ]
    },
    {
     "data": {
      "text/plain": [
       "0"
      ]
     },
     "execution_count": 12,
     "metadata": {},
     "output_type": "execute_result"
    }
   ],
   "source": [
    "import math\n",
    "\n",
    "\n",
    "def hypotenuse(a, b):\n",
    "    s1 = a**2\n",
    "    s2 = b**2\n",
    "    s3 = s1 + s2\n",
    "\n",
    "    c = math.sqrt(s3)\n",
    "\n",
    "    print(c)\n",
    "\n",
    "    return 0\n",
    "\n",
    "hypotenuse(3,4)"
   ]
  },
  {
   "cell_type": "code",
   "execution_count": 13,
   "metadata": {
    "collapsed": false
   },
   "outputs": [
    {
     "data": {
      "text/plain": [
       "5.0"
      ]
     },
     "execution_count": 13,
     "metadata": {},
     "output_type": "execute_result"
    }
   ],
   "source": [
    "import math\n",
    "\n",
    "\n",
    "def hypotenuse(a, b):\n",
    "    s1 = a**2\n",
    "    s2 = b**2\n",
    "    s3 = s1 + s2\n",
    "\n",
    "    c = math.sqrt(s3)\n",
    "\n",
    "    return c\n",
    "\n",
    "hypotenuse(3,4)"
   ]
  },
  {
   "cell_type": "markdown",
   "metadata": {},
   "source": [
    "### Chapter 6.4\n",
    "Write a function `is_between(x, y, z)` that returns `True` if `x ≤ y ≤ z` or `False` otherwise."
   ]
  },
  {
   "cell_type": "code",
   "execution_count": 17,
   "metadata": {
    "collapsed": false
   },
   "outputs": [
    {
     "data": {
      "text/plain": [
       "False"
      ]
     },
     "execution_count": 17,
     "metadata": {},
     "output_type": "execute_result"
    }
   ],
   "source": [
    "def increasing(x, y, z):\n",
    "    if x <= y and y <= z:\n",
    "        return True\n",
    "    else:\n",
    "        return False\n",
    "\n",
    "increasing(3, 2, 1)"
   ]
  },
  {
   "cell_type": "markdown",
   "metadata": {},
   "source": [
    "## [Chapter 7](http://greenteapress.com/thinkpython2/html/thinkpython2008.html)\n",
    "\n"
   ]
  },
  {
   "cell_type": "markdown",
   "metadata": {},
   "source": [
    "### Notes:  \n",
    "can reassign value to variable  \n",
    "reassignment - reassigning the variable to a new value  \n",
    "cannot say 7=a, have to say a=7  \n",
    "sequential, if something happens later, changes everything  \n",
    "update - reassignment where new value depends on old value  \n",
    "must initialize variable before updating it  \n",
    "iteration = repetition  \n",
    "while statement is a type of iteration  \n",
    "while _true/false condition_ then do _this_  \n",
    "infinite loop, while loop never ends, continues on forever  \n",
    "'break' statements terminate the loop  \n",
    "sometimes used to improve an approximate answer  \n",
    "algorithm - mechanical process for solving category of problems  \n",
    "algorithms \"do not require any intelligence to carry out\"  \n",
    "try breaking up the program to debug  \n",
    "could cut it in half and check each half then continue to cut in half  \n",
    "choose spot where you think bug may be"
   ]
  },
  {
   "cell_type": "markdown",
   "metadata": {},
   "source": [
    "**Quick check:** How do you test for equality in Python?"
   ]
  },
  {
   "cell_type": "markdown",
   "metadata": {},
   "source": [
    "To test for equality you would probably want to use an if statement that returns true or false. The condition would be a == b. If a and be were equal it would return true, if not it would return false. "
   ]
  },
  {
   "cell_type": "markdown",
   "metadata": {},
   "source": [
    "**Challenge:** Prove/disprove the Collatz conjecture :)"
   ]
  },
  {
   "cell_type": "markdown",
   "metadata": {},
   "source": [
    "No one has been able to so far..."
   ]
  },
  {
   "cell_type": "markdown",
   "metadata": {},
   "source": [
    "### Chapter 7.5\n",
    "Encapsulate the loop from Section 7.5 in a function called `square_root` that takes `a` as a parameter, chooses a reasonable value of `x`, and returns an estimate of the square root of `a`."
   ]
  },
  {
   "cell_type": "code",
   "execution_count": 1,
   "metadata": {
    "collapsed": false
   },
   "outputs": [
    {
     "name": "stdout",
     "output_type": "stream",
     "text": [
      "10\n",
      "5.2\n",
      "2.9846153846153847\n",
      "2.1624107850911973\n",
      "2.006099040777959\n",
      "2.00000927130158\n",
      "2.000000000021489\n"
     ]
    },
    {
     "data": {
      "text/plain": [
       "2.0"
      ]
     },
     "execution_count": 1,
     "metadata": {},
     "output_type": "execute_result"
    }
   ],
   "source": [
    "def square_root(a):\n",
    "    epsilon = 0.0000001\n",
    "\n",
    "    if a <= 100:\n",
    "        x = 10\n",
    "    elif a > 100 and a <= 400:\n",
    "        x = 11\n",
    "    elif a > 400 and a <= 900:\n",
    "        x = 21\n",
    "    elif a > 900 and a <= 1600:\n",
    "        x = 31\n",
    "    elif a > 1600 and a <= 2500:\n",
    "        x = 41\n",
    "    elif a > 2500 and a <= 3600:\n",
    "        x = 51\n",
    "    elif a > 3600 and a <= 4900:\n",
    "        x = 61\n",
    "    elif a > 4900 and a < 6400:\n",
    "        x = 71\n",
    "    elif a > 6400 and a <= 8100:\n",
    "        x = 81\n",
    "    elif a > 8100 and a <= 10000:\n",
    "        x = 91\n",
    "    else:\n",
    "        x = 101\n",
    "\n",
    "    while True:\n",
    "        print(x)\n",
    "        y = (x + a/x) / 2\n",
    "        if abs(y-x) < epsilon:\n",
    "            break\n",
    "        x = y\n",
    "\n",
    "    return y\n",
    "\n",
    "square_root(4)"
   ]
  },
  {
   "cell_type": "markdown",
   "metadata": {},
   "source": [
    "### Exercise 7.1  \n",
    "To test the square root algorithm you developed in Exercise 2, you could compare it with Python's `math.sqrt` function. Write a function named `test_square_root` that prints a table like this:\n",
    "\n",
    "```python\n",
    "1.0 1.0           1.0           0.0\n",
    "2.0 1.41421356237 1.41421356237 2.22044604925e-16\n",
    "3.0 1.73205080757 1.73205080757 0.0\n",
    "4.0 2.0           2.0           0.0\n",
    "5.0 2.2360679775  2.2360679775  0.0\n",
    "6.0 2.44948974278 2.44948974278 0.0\n",
    "7.0 2.64575131106 2.64575131106 0.0\n",
    "8.0 2.82842712475 2.82842712475 4.4408920985e-16\n",
    "9.0 3.0           3.0           0.0\n",
    "```\n",
    "\n",
    "The first column is a number, `a`; the second column is the square root of a computed with the function from Section 7.5; the third column is the square root computed by `math.sqrt`; the fourth column is the absolute value of the difference between the two estimates."
   ]
  },
  {
   "cell_type": "code",
   "execution_count": null,
   "metadata": {
    "collapsed": false
   },
   "outputs": [],
   "source": [
    "import math\n",
    "\n",
    "def square_root(a):\n",
    "    epsilon = 0.0000001\n",
    "\n",
    "    if a <= 100:\n",
    "        x = 10\n",
    "    elif a > 100 and a <= 400:\n",
    "        x = 11\n",
    "    elif a > 400 and a <= 900:\n",
    "        x = 21\n",
    "    elif a > 900 and a <= 1600:\n",
    "        x = 31\n",
    "    elif a > 1600 and a <= 2500:\n",
    "        x = 41\n",
    "    elif a > 2500 and a <= 3600:\n",
    "        x = 51\n",
    "    elif a > 3600 and a <= 4900:\n",
    "        x = 61\n",
    "    elif a > 4900 and a < 6400:\n",
    "        x = 71\n",
    "    elif a > 6400 and a <= 8100:\n",
    "        x = 81\n",
    "    elif a > 8100 and a <= 10000:\n",
    "        x = 91\n",
    "    else:\n",
    "        x = 101\n",
    "\n",
    "    while True:\n",
    "        y = (x + a/x) / 2\n",
    "        if abs(y-x) < epsilon:\n",
    "            break\n",
    "        x = y\n",
    "\n",
    "    return y\n",
    "\n",
    "\n",
    "def test_square_root():\n",
    "    n = 1.0\n",
    "\n",
    "    while n < 10:\n",
    "        print(n, end=' ')\n",
    "        comp = square_root(n)\n",
    "        print(comp, end=' ')\n",
    "        if len(str(comp)) < 18:\n",
    "            print(' ' * (17 - len(str(comp))), end=' ')\n",
    "        act = math.sqrt(n)\n",
    "        print(act, end=' ')\n",
    "        if len(str(act)) < 18:\n",
    "            print(' ' * (17 - len(str(act))), end=' ')\n",
    "        ab = abs(act-comp)\n",
    "        print(ab)\n",
    "\n",
    "        n = n+1\n",
    "        \n",
    "test_square_root()"
   ]
  },
  {
   "cell_type": "markdown",
   "metadata": {},
   "source": [
    "#### Challenge: Exercise 7.3  (optional)\n",
    "The mathematician Srinivasa Ramanujan found an infinite series that can be used to generate a numerical approximation of\n",
    "$\\frac{1}{\\pi}$:\n",
    "\n",
    "$$\\frac{1}{\\pi} = \\frac{2 \\sqrt{2}}{9801} \\sum_{k=0}^{\\infty} \\frac{(4k)! (1103+26390k)}{(k!)^4 396^{4k}}$$\n",
    " \n",
    "Write a function called `estimate_pi` that uses this formula to compute and return an estimate of $\\pi$. It should use a `while` loop to compute terms of the summation until the last term is smaller than `1e-15` (which is Python notation for $10^{−15}$). You can check the result by comparing it to `math.pi`.\n",
    "\n",
    "[Possible solution](http://thinkpython.com/code/pi.py) (give the exercise a try before viewing the solution)"
   ]
  },
  {
   "cell_type": "code",
   "execution_count": 14,
   "metadata": {
    "collapsed": false
   },
   "outputs": [
    {
     "name": "stdout",
     "output_type": "stream",
     "text": [
      "3.1415926533118186\n",
      "3.141592653589793\n"
     ]
    }
   ],
   "source": [
    "import math\n",
    "\n",
    "\n",
    "def approxPi():\n",
    "    const = (2*math.sqrt(2))/9801\n",
    "    k = 0\n",
    "    total = 0\n",
    "    ns = 0\n",
    "    \n",
    "    while True:\n",
    "        num = (math.factorial(4*k))*(1103 + 26490 * k)\n",
    "        den = ((math.factorial(k))**4) * (396**(4 * k))\n",
    "        ns = num / den\n",
    "        \n",
    "        if ns < 10**-15:\n",
    "            break\n",
    "        \n",
    "        total += ns\n",
    "        \n",
    "        k += 1\n",
    "\n",
    "    s=total*const\n",
    "    \n",
    "    print(1/s)\n",
    "    \n",
    "approxPi()\n",
    "print(math.pi)\n"
   ]
  },
  {
   "cell_type": "markdown",
   "metadata": {},
   "source": [
    "## Quick poll\n",
    "\n",
    "About how long did you spend working on this Reading Journal?"
   ]
  },
  {
   "cell_type": "markdown",
   "metadata": {},
   "source": [
    "2 hours"
   ]
  },
  {
   "cell_type": "markdown",
   "metadata": {},
   "source": [
    "## Reading Journal feedback\n",
    "\n",
    "Have any comments on this Reading Journal? Feel free to leave them below and we'll read them when you submit your journal entry. This could include suggestions to improve the exercises, topics you'd like to see covered in class next time, or other feedback.\n",
    "\n",
    "If you have Python questions or run into problems while completing the reading, you should post them to Piazza instead so you can get a quick response before your journal is submitted."
   ]
  },
  {
   "cell_type": "markdown",
   "metadata": {},
   "source": []
  },
  {
   "cell_type": "markdown",
   "metadata": {},
   "source": [
    " "
   ]
  }
 ],
 "metadata": {
  "kernelspec": {
   "display_name": "Python 3",
   "language": "python",
   "name": "python3"
  },
  "language_info": {
   "codemirror_mode": {
    "name": "ipython",
    "version": 3
   },
   "file_extension": ".py",
   "mimetype": "text/x-python",
   "name": "python",
   "nbconvert_exporter": "python",
   "pygments_lexer": "ipython3",
   "version": "3.4.3"
  }
 },
 "nbformat": 4,
 "nbformat_minor": 0
}
